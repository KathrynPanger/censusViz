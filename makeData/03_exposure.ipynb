{
 "cells": [
  {
   "cell_type": "code",
   "execution_count": 25,
   "outputs": [],
   "source": [
    "import pandas as pd\n",
    "import geopandas as gpd\n",
    "from shapely import wkt\n",
    "import numpy as np"
   ],
   "metadata": {
    "collapsed": false,
    "pycharm": {
     "name": "#%%\n"
    }
   }
  },
  {
   "cell_type": "code",
   "execution_count": 20,
   "outputs": [],
   "source": [
    "# Read toxic waste data\n",
    "toxicDf = pd.read_csv(\"../localData/epa_tri_toxic_waste_2019.csv\")\n",
    "toxicDf = toxicDf.loc[toxicDf[\"6. CITY\"] == \"CHICAGO\"]\n",
    "toxicDf = gpd.GeoDataFrame(toxicDf, geometry=gpd.points_from_xy(toxicDf[\"13. LONGITUDE\"], toxicDf[\"12. LATITUDE\"])).set_crs(\"EPSG:4326\")\n",
    "#greab necessary columns, convert to cartesian geometry\n",
    "toxicDf = toxicDf[[\"3. FRS ID\", \"geometry\"]].to_crs(\"EPSG:2953\")\n",
    "#toxicDf = toxicDf.to_crs(\"EPSG:2953\")"
   ],
   "metadata": {
    "collapsed": false,
    "pycharm": {
     "name": "#%%\n"
    }
   }
  },
  {
   "cell_type": "code",
   "execution_count": 21,
   "outputs": [],
   "source": [
    "# Read census data\n",
    "chicagoDf = pd.read_csv(\"../localdata/censusVars.csv\")\n",
    "chicagoDf['geometry'] = chicagoDf['geometry'].apply(wkt.loads)\n",
    "chicagoDf = gpd.GeoDataFrame(chicagoDf, crs='epsg:4326')\n",
    "#grab necessary columns, convert to cartesian geometry\n",
    "chicagoDf = chicagoDf[[\"GEOID\", \"geometry\"]].to_crs(\"EPSG:2953\")"
   ],
   "metadata": {
    "collapsed": false,
    "pycharm": {
     "name": "#%%\n"
    }
   }
  },
  {
   "cell_type": "code",
   "execution_count": 30,
   "outputs": [],
   "source": [
    "# def sum_of_distances(polygon_column: pd.DataFrame, points_column: pd.DataFrame):\n",
    "#     points = points_column.tolist()\n",
    "#     distance_column = pd.DataFrame(np.zeros((len(polygon_column), 1)))\n",
    "#     for point in points:\n",
    "#         distance_column += polygon_column.apply(lambda x: x.distance(point))\n",
    "#     return distance_column"
   ],
   "metadata": {
    "collapsed": false,
    "pycharm": {
     "name": "#%%\n"
    }
   }
  },
  {
   "cell_type": "code",
   "execution_count": null,
   "outputs": [],
   "source": [
    "def sum_of_distances(polygon_column: pd.DataFrame, points_column: pd.DataFrame):\n",
    "    points = points_column.tolist()\n",
    "    distance_column = pd.DataFrame(np.zeros((len(polygon_column), 1)))\n",
    "    for point in points:\n",
    "        distance_column += polygon_column.apply(lambda x: x.distance(point))\n",
    "    return distance_column"
   ],
   "metadata": {
    "collapsed": false,
    "pycharm": {
     "name": "#%%\n"
    }
   }
  },
  {
   "cell_type": "code",
   "execution_count": 28,
   "outputs": [
    {
     "data": {
      "text/plain": "          3. FRS ID                        geometry\n37     110000435949  POINT (744481.045 7218663.372)\n248    110000433870  POINT (749971.246 7215159.612)\n323    110037521946  POINT (748110.788 7222747.697)\n526    110030735916  POINT (751595.019 7196124.937)\n607    110000434619  POINT (752026.063 7217132.465)\n...             ...                             ...\n77541  110000435191  POINT (752125.922 7188600.944)\n77578  110000435137  POINT (744841.065 7207103.965)\n79350  110000435967  POINT (745696.664 7218840.467)\n79442  110001380149  POINT (751947.782 7215092.921)\n79650  110000433870  POINT (749971.246 7215159.612)\n\n[303 rows x 2 columns]",
      "text/html": "<div>\n<style scoped>\n    .dataframe tbody tr th:only-of-type {\n        vertical-align: middle;\n    }\n\n    .dataframe tbody tr th {\n        vertical-align: top;\n    }\n\n    .dataframe thead th {\n        text-align: right;\n    }\n</style>\n<table border=\"1\" class=\"dataframe\">\n  <thead>\n    <tr style=\"text-align: right;\">\n      <th></th>\n      <th>3. FRS ID</th>\n      <th>geometry</th>\n    </tr>\n  </thead>\n  <tbody>\n    <tr>\n      <th>37</th>\n      <td>110000435949</td>\n      <td>POINT (744481.045 7218663.372)</td>\n    </tr>\n    <tr>\n      <th>248</th>\n      <td>110000433870</td>\n      <td>POINT (749971.246 7215159.612)</td>\n    </tr>\n    <tr>\n      <th>323</th>\n      <td>110037521946</td>\n      <td>POINT (748110.788 7222747.697)</td>\n    </tr>\n    <tr>\n      <th>526</th>\n      <td>110030735916</td>\n      <td>POINT (751595.019 7196124.937)</td>\n    </tr>\n    <tr>\n      <th>607</th>\n      <td>110000434619</td>\n      <td>POINT (752026.063 7217132.465)</td>\n    </tr>\n    <tr>\n      <th>...</th>\n      <td>...</td>\n      <td>...</td>\n    </tr>\n    <tr>\n      <th>77541</th>\n      <td>110000435191</td>\n      <td>POINT (752125.922 7188600.944)</td>\n    </tr>\n    <tr>\n      <th>77578</th>\n      <td>110000435137</td>\n      <td>POINT (744841.065 7207103.965)</td>\n    </tr>\n    <tr>\n      <th>79350</th>\n      <td>110000435967</td>\n      <td>POINT (745696.664 7218840.467)</td>\n    </tr>\n    <tr>\n      <th>79442</th>\n      <td>110001380149</td>\n      <td>POINT (751947.782 7215092.921)</td>\n    </tr>\n    <tr>\n      <th>79650</th>\n      <td>110000433870</td>\n      <td>POINT (749971.246 7215159.612)</td>\n    </tr>\n  </tbody>\n</table>\n<p>303 rows × 2 columns</p>\n</div>"
     },
     "execution_count": 28,
     "metadata": {},
     "output_type": "execute_result"
    }
   ],
   "source": [
    "toxicDf"
   ],
   "metadata": {
    "collapsed": false,
    "pycharm": {
     "name": "#%%\n"
    }
   }
  },
  {
   "cell_type": "code",
   "execution_count": 31,
   "outputs": [
    {
     "data": {
      "text/plain": "0      5.219851e+06\n1      5.219851e+06\n2      5.219851e+06\n3      5.219851e+06\n4      5.219851e+06\n           ...     \n659    5.219851e+06\n660    5.219851e+06\n661    5.219851e+06\n662    5.219851e+06\n663    5.219851e+06\nName: sum_of_distances_from_every_facility, Length: 664, dtype: float64"
     },
     "execution_count": 31,
     "metadata": {},
     "output_type": "execute_result"
    }
   ],
   "source": [
    "chicagoDf[\"sum_of_distances_from_every_facility\"] = sum_of_distances(chicagoDf[\"geometry\"], toxicDf[\"geometry\"])\n",
    "chicagoDf[\"sum_of_distances_from_every_facility\"]"
   ],
   "metadata": {
    "collapsed": false,
    "pycharm": {
     "name": "#%%\n"
    }
   }
  },
  {
   "cell_type": "code",
   "execution_count": null,
   "outputs": [],
   "source": [],
   "metadata": {
    "collapsed": false,
    "pycharm": {
     "name": "#%%\n"
    }
   }
  }
 ],
 "metadata": {
  "kernelspec": {
   "display_name": "Python 3",
   "language": "python",
   "name": "python3"
  },
  "language_info": {
   "codemirror_mode": {
    "name": "ipython",
    "version": 2
   },
   "file_extension": ".py",
   "mimetype": "text/x-python",
   "name": "python",
   "nbconvert_exporter": "python",
   "pygments_lexer": "ipython2",
   "version": "2.7.6"
  }
 },
 "nbformat": 4,
 "nbformat_minor": 0
}
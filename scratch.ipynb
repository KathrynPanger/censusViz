{
 "cells": [
  {
   "cell_type": "code",
   "execution_count": 3,
   "metadata": {},
   "outputs": [],
   "source": [
    "from census import Census\n",
    "from us import states\n",
    "from config import API_KEY"
   ]
  },
  {
   "cell_type": "code",
   "execution_count": 8,
   "metadata": {},
   "outputs": [
    {
     "data": {
      "text/plain": [
       "[{'NAME': 'Maryland', 'B25034_010E': 129318.0, 'state': '24'}]"
      ]
     },
     "execution_count": 8,
     "metadata": {},
     "output_type": "execute_result"
    }
   ],
   "source": [
    "c = Census(API_KEY, year = 2019)\n",
    "c.acs1.get(('NAME', 'B25034_010E'),\n",
    "          {'for': 'state:{}'.format(states.MD.fips)})"
   ]
  },
  {
   "cell_type": "code",
   "execution_count": 19,
   "metadata": {},
   "outputs": [
    {
     "ename": "ImportError",
     "evalue": "cannot import name '_dep_message' from 'segregation.util.util' (/Users/kathrynpanger/opt/anaconda3/envs/parsonsVenv/lib/python3.10/site-packages/segregation/util/util.py)",
     "output_type": "error",
     "traceback": [
      "\u001b[0;31m---------------------------------------------------------------------------\u001b[0m",
      "\u001b[0;31mImportError\u001b[0m                               Traceback (most recent call last)",
      "Cell \u001b[0;32mIn[19], line 2\u001b[0m\n\u001b[1;32m      1\u001b[0m \u001b[39mimport\u001b[39;00m \u001b[39mcenpy\u001b[39;00m\n\u001b[0;32m----> 2\u001b[0m \u001b[39mimport\u001b[39;00m \u001b[39msegregation\u001b[39;00m\n\u001b[1;32m      3\u001b[0m \u001b[39mimport\u001b[39;00m \u001b[39mcontextily\u001b[39;00m\n",
      "File \u001b[0;32m~/opt/anaconda3/envs/parsonsVenv/lib/python3.10/site-packages/segregation/__init__.py:7\u001b[0m\n\u001b[1;32m      1\u001b[0m __version__ \u001b[39m=\u001b[39m \u001b[39m\"\u001b[39m\u001b[39m1.3.0\u001b[39m\u001b[39m\"\u001b[39m\n\u001b[1;32m      2\u001b[0m \u001b[39m\"\"\"\u001b[39;00m\n\u001b[1;32m      3\u001b[0m \u001b[39m:mod:`segregation` --- Spatial/Aspatial Segregation Analysis\u001b[39;00m\n\u001b[1;32m      4\u001b[0m \u001b[39m=================================================\u001b[39;00m\n\u001b[1;32m      5\u001b[0m \n\u001b[1;32m      6\u001b[0m \u001b[39m\"\"\"\u001b[39;00m\n\u001b[0;32m----> 7\u001b[0m \u001b[39mfrom\u001b[39;00m \u001b[39m.\u001b[39;00m \u001b[39mimport\u001b[39;00m aspatial\n\u001b[1;32m      8\u001b[0m \u001b[39mfrom\u001b[39;00m \u001b[39m.\u001b[39;00m \u001b[39mimport\u001b[39;00m spatial\n\u001b[1;32m      9\u001b[0m \u001b[39mfrom\u001b[39;00m \u001b[39m.\u001b[39;00m \u001b[39mimport\u001b[39;00m inference\n",
      "File \u001b[0;32m~/opt/anaconda3/envs/parsonsVenv/lib/python3.10/site-packages/segregation/aspatial/__init__.py:1\u001b[0m\n\u001b[0;32m----> 1\u001b[0m \u001b[39mfrom\u001b[39;00m \u001b[39m.\u001b[39;00m\u001b[39maspatial_indexes\u001b[39;00m \u001b[39mimport\u001b[39;00m \u001b[39m*\u001b[39m\n\u001b[1;32m      2\u001b[0m \u001b[39mfrom\u001b[39;00m \u001b[39m.\u001b[39;00m\u001b[39mmultigroup_aspatial_indexes\u001b[39;00m \u001b[39mimport\u001b[39;00m \u001b[39m*\u001b[39m\n",
      "File \u001b[0;32m~/opt/anaconda3/envs/parsonsVenv/lib/python3.10/site-packages/segregation/aspatial/aspatial_indexes.py:15\u001b[0m\n\u001b[1;32m     12\u001b[0m \u001b[39mfrom\u001b[39;00m \u001b[39mscipy\u001b[39;00m\u001b[39m.\u001b[39;00m\u001b[39mstats\u001b[39;00m \u001b[39mimport\u001b[39;00m norm\n\u001b[1;32m     13\u001b[0m \u001b[39mfrom\u001b[39;00m \u001b[39mscipy\u001b[39;00m\u001b[39m.\u001b[39;00m\u001b[39moptimize\u001b[39;00m \u001b[39mimport\u001b[39;00m minimize\n\u001b[0;32m---> 15\u001b[0m \u001b[39mfrom\u001b[39;00m \u001b[39msegregation\u001b[39;00m\u001b[39m.\u001b[39;00m\u001b[39mutil\u001b[39;00m\u001b[39m.\u001b[39;00m\u001b[39mutil\u001b[39;00m \u001b[39mimport\u001b[39;00m _dep_message, DeprecationHelper, _nan_handle\n\u001b[1;32m     17\u001b[0m \u001b[39m# Including old and new api in __all__ so users can use both\u001b[39;00m\n\u001b[1;32m     19\u001b[0m __all__ \u001b[39m=\u001b[39m [\u001b[39m'\u001b[39m\u001b[39mDissim\u001b[39m\u001b[39m'\u001b[39m, \n\u001b[1;32m     20\u001b[0m            \n\u001b[1;32m     21\u001b[0m            \u001b[39m'\u001b[39m\u001b[39mGini_Seg\u001b[39m\u001b[39m'\u001b[39m,\n\u001b[0;32m   (...)\u001b[0m\n\u001b[1;32m     46\u001b[0m            \n\u001b[1;32m     47\u001b[0m            \u001b[39m'\u001b[39m\u001b[39mMinMax\u001b[39m\u001b[39m'\u001b[39m]\n",
      "\u001b[0;31mImportError\u001b[0m: cannot import name '_dep_message' from 'segregation.util.util' (/Users/kathrynpanger/opt/anaconda3/envs/parsonsVenv/lib/python3.10/site-packages/segregation/util/util.py)"
     ]
    }
   ],
   "source": [
    "import cenpy\n",
    "import segregation\n",
    "import contextily"
   ]
  },
  {
   "cell_type": "code",
   "execution_count": 12,
   "metadata": {},
   "outputs": [],
   "source": [
    "acs = cenpy.products.ACS()\n",
    "\n"
   ]
  },
  {
   "cell_type": "code",
   "execution_count": 14,
   "metadata": {},
   "outputs": [
    {
     "name": "stdout",
     "output_type": "stream",
     "text": [
      "                                                   label  \\\n",
      "AIANHH                                         Geography   \n",
      "AIHHTL                                         Geography   \n",
      "AIRES                                          Geography   \n",
      "ANRC                                           Geography   \n",
      "B01001A_001E                            Estimate!!Total:   \n",
      "...                                                  ...   \n",
      "UA                                             Geography   \n",
      "ZCTA                                           Geography   \n",
      "for                         Census API FIPS 'for' clause   \n",
      "in                           Census API FIPS 'in' clause   \n",
      "ucgid         Uniform Census Geography Identifier clause   \n",
      "\n",
      "                                         concept predicateType    group limit  \\\n",
      "AIANHH                                       NaN           NaN      N/A     0   \n",
      "AIHHTL                                       NaN           NaN      N/A     0   \n",
      "AIRES                                        NaN           NaN      N/A     0   \n",
      "ANRC                                         NaN           NaN      N/A     0   \n",
      "B01001A_001E            SEX BY AGE (WHITE ALONE)           int  B01001A     0   \n",
      "...                                          ...           ...      ...   ...   \n",
      "UA                                           NaN           NaN      N/A     0   \n",
      "ZCTA                                         NaN           NaN      N/A     0   \n",
      "for           Census API Geography Specification      fips-for      N/A     0   \n",
      "in            Census API Geography Specification       fips-in      N/A     0   \n",
      "ucgid         Census API Geography Specification         ucgid      N/A     0   \n",
      "\n",
      "             predicateOnly hasGeoCollectionSupport  \\\n",
      "AIANHH                 NaN                     NaN   \n",
      "AIHHTL                 NaN                     NaN   \n",
      "AIRES                  NaN                     NaN   \n",
      "ANRC                   NaN                     NaN   \n",
      "B01001A_001E           NaN                     NaN   \n",
      "...                    ...                     ...   \n",
      "UA                     NaN                     NaN   \n",
      "ZCTA                   NaN                     NaN   \n",
      "for                   True                     NaN   \n",
      "in                    True                     NaN   \n",
      "ucgid                 True                    True   \n",
      "\n",
      "                                            attributes required  \n",
      "AIANHH                                             NaN      NaN  \n",
      "AIHHTL                                             NaN      NaN  \n",
      "AIRES                                              NaN      NaN  \n",
      "ANRC                                               NaN      NaN  \n",
      "B01001A_001E  B01001A_001EA,B01001A_001M,B01001A_001MA      NaN  \n",
      "...                                                ...      ...  \n",
      "UA                                                 NaN      NaN  \n",
      "ZCTA                                               NaN      NaN  \n",
      "for                                                NaN      NaN  \n",
      "in                                                 NaN      NaN  \n",
      "ucgid                                              NaN      NaN  \n",
      "\n",
      "[27080 rows x 9 columns]\n"
     ]
    }
   ],
   "source": [
    "print(acs.variables)"
   ]
  },
  {
   "cell_type": "code",
   "execution_count": 15,
   "metadata": {},
   "outputs": [
    {
     "name": "stdout",
     "output_type": "stream",
     "text": [
      "                                                  description  \\\n",
      "table_name                                                      \n",
      "B01001                                             SEX BY AGE   \n",
      "B01002                                      MEDIAN AGE BY SEX   \n",
      "B01003                                       TOTAL POPULATION   \n",
      "B02001                                                   RACE   \n",
      "B02008      WHITE ALONE OR IN COMBINATION WITH ONE OR MORE...   \n",
      "...                                                       ...   \n",
      "C27014             PUBLIC HEALTH INSURANCE BY WORK EXPERIENCE   \n",
      "C27016      HEALTH INSURANCE COVERAGE STATUS BY RATIO OF I...   \n",
      "C27017      PRIVATE HEALTH INSURANCE BY RATIO OF INCOME TO...   \n",
      "C27018      PUBLIC HEALTH INSURANCE BY RATIO OF INCOME TO ...   \n",
      "C27021      HEALTH INSURANCE COVERAGE STATUS  BY LIVING AR...   \n",
      "\n",
      "                                                      columns  \n",
      "table_name                                                     \n",
      "B01001      [B01001_001E, B01001_002E, B01001_003E, B01001...  \n",
      "B01002                [B01002_001E, B01002_002E, B01002_003E]  \n",
      "B01003                                          [B01003_001E]  \n",
      "B02001      [B02001_001E, B02001_002E, B02001_003E, B02001...  \n",
      "B02008                                          [B02008_001E]  \n",
      "...                                                       ...  \n",
      "C27014      [C27014_001E, C27014_002E, C27014_003E, C27014...  \n",
      "C27016      [C27016_001E, C27016_002E, C27016_003E, C27016...  \n",
      "C27017      [C27017_001E, C27017_002E, C27017_003E, C27017...  \n",
      "C27018      [C27018_001E, C27018_002E, C27018_003E, C27018...  \n",
      "C27021      [C27021_001E, C27021_002E, C27021_003E, C27021...  \n",
      "\n",
      "[674 rows x 2 columns]\n"
     ]
    }
   ],
   "source": [
    "print(acs.tables)"
   ]
  },
  {
   "cell_type": "code",
   "execution_count": 21,
   "metadata": {},
   "outputs": [
    {
     "data": {
      "text/html": [
       "<div>\n",
       "<style scoped>\n",
       "    .dataframe tbody tr th:only-of-type {\n",
       "        vertical-align: middle;\n",
       "    }\n",
       "\n",
       "    .dataframe tbody tr th {\n",
       "        vertical-align: top;\n",
       "    }\n",
       "\n",
       "    .dataframe thead th {\n",
       "        text-align: right;\n",
       "    }\n",
       "</style>\n",
       "<table border=\"1\" class=\"dataframe\">\n",
       "  <thead>\n",
       "    <tr style=\"text-align: right;\">\n",
       "      <th></th>\n",
       "      <th>description</th>\n",
       "      <th>columns</th>\n",
       "    </tr>\n",
       "    <tr>\n",
       "      <th>table_name</th>\n",
       "      <th></th>\n",
       "      <th></th>\n",
       "    </tr>\n",
       "  </thead>\n",
       "  <tbody>\n",
       "    <tr>\n",
       "      <th>B25087</th>\n",
       "      <td>MORTGAGE STATUS AND SELECTED MONTHLY OWNER COSTS</td>\n",
       "      <td>[B25087_001E, B25087_002E, B25087_003E, B25087...</td>\n",
       "    </tr>\n",
       "    <tr>\n",
       "      <th>B25088</th>\n",
       "      <td>MEDIAN SELECTED MONTHLY OWNER COSTS (DOLLARS) ...</td>\n",
       "      <td>[B25088_001E, B25088_002E, B25088_003E]</td>\n",
       "    </tr>\n",
       "    <tr>\n",
       "      <th>B25089</th>\n",
       "      <td>AGGREGATE SELECTED MONTHLY OWNER COSTS (DOLLAR...</td>\n",
       "      <td>[B25089_001E, B25089_002E, B25089_003E]</td>\n",
       "    </tr>\n",
       "    <tr>\n",
       "      <th>B25091</th>\n",
       "      <td>MORTGAGE STATUS BY SELECTED MONTHLY OWNER COST...</td>\n",
       "      <td>[B25091_001E, B25091_002E, B25091_003E, B25091...</td>\n",
       "    </tr>\n",
       "    <tr>\n",
       "      <th>B25092</th>\n",
       "      <td>MEDIAN SELECTED MONTHLY OWNER COSTS AS A PERCE...</td>\n",
       "      <td>[B25092_001E, B25092_002E, B25092_003E]</td>\n",
       "    </tr>\n",
       "    <tr>\n",
       "      <th>B25093</th>\n",
       "      <td>AGE OF HOUSEHOLDER BY SELECTED MONTHLY OWNER C...</td>\n",
       "      <td>[B25093_001E, B25093_002E, B25093_003E, B25093...</td>\n",
       "    </tr>\n",
       "    <tr>\n",
       "      <th>B25094</th>\n",
       "      <td>SELECTED MONTHLY OWNER COSTS</td>\n",
       "      <td>[B25094_001E, B25094_002E, B25094_003E, B25094...</td>\n",
       "    </tr>\n",
       "    <tr>\n",
       "      <th>B25095</th>\n",
       "      <td>HOUSEHOLD INCOME BY SELECTED MONTHLY OWNER COS...</td>\n",
       "      <td>[B25095_001E, B25095_002E, B25095_003E, B25095...</td>\n",
       "    </tr>\n",
       "    <tr>\n",
       "      <th>B25101</th>\n",
       "      <td>MORTGAGE STATUS BY MONTHLY HOUSING COSTS AS A ...</td>\n",
       "      <td>[B25101_001E, B25101_002E, B25101_003E, B25101...</td>\n",
       "    </tr>\n",
       "    <tr>\n",
       "      <th>B25104</th>\n",
       "      <td>MONTHLY HOUSING COSTS</td>\n",
       "      <td>[B25104_001E, B25104_002E, B25104_003E, B25104...</td>\n",
       "    </tr>\n",
       "    <tr>\n",
       "      <th>B25105</th>\n",
       "      <td>MEDIAN MONTHLY HOUSING COSTS (DOLLARS)</td>\n",
       "      <td>[B25105_001E]</td>\n",
       "    </tr>\n",
       "    <tr>\n",
       "      <th>B25106</th>\n",
       "      <td>TENURE BY HOUSING COSTS AS A PERCENTAGE OF HOU...</td>\n",
       "      <td>[B25106_001E, B25106_002E, B25106_003E, B25106...</td>\n",
       "    </tr>\n",
       "    <tr>\n",
       "      <th>B992522</th>\n",
       "      <td>ALLOCATION OF MORTGAGE STATUS AND SELECTED MON...</td>\n",
       "      <td>[B992522_001E, B992522_002E, B992522_003E, B99...</td>\n",
       "    </tr>\n",
       "    <tr>\n",
       "      <th>B992523</th>\n",
       "      <td>ALLOCATION OF SELECTED MONTHLY OWNER COSTS FOR...</td>\n",
       "      <td>[B992523_001E, B992523_002E, B992523_003E]</td>\n",
       "    </tr>\n",
       "  </tbody>\n",
       "</table>\n",
       "</div>"
      ],
      "text/plain": [
       "                                                  description  \\\n",
       "table_name                                                      \n",
       "B25087       MORTGAGE STATUS AND SELECTED MONTHLY OWNER COSTS   \n",
       "B25088      MEDIAN SELECTED MONTHLY OWNER COSTS (DOLLARS) ...   \n",
       "B25089      AGGREGATE SELECTED MONTHLY OWNER COSTS (DOLLAR...   \n",
       "B25091      MORTGAGE STATUS BY SELECTED MONTHLY OWNER COST...   \n",
       "B25092      MEDIAN SELECTED MONTHLY OWNER COSTS AS A PERCE...   \n",
       "B25093      AGE OF HOUSEHOLDER BY SELECTED MONTHLY OWNER C...   \n",
       "B25094                           SELECTED MONTHLY OWNER COSTS   \n",
       "B25095      HOUSEHOLD INCOME BY SELECTED MONTHLY OWNER COS...   \n",
       "B25101      MORTGAGE STATUS BY MONTHLY HOUSING COSTS AS A ...   \n",
       "B25104                                  MONTHLY HOUSING COSTS   \n",
       "B25105                 MEDIAN MONTHLY HOUSING COSTS (DOLLARS)   \n",
       "B25106      TENURE BY HOUSING COSTS AS A PERCENTAGE OF HOU...   \n",
       "B992522     ALLOCATION OF MORTGAGE STATUS AND SELECTED MON...   \n",
       "B992523     ALLOCATION OF SELECTED MONTHLY OWNER COSTS FOR...   \n",
       "\n",
       "                                                      columns  \n",
       "table_name                                                     \n",
       "B25087      [B25087_001E, B25087_002E, B25087_003E, B25087...  \n",
       "B25088                [B25088_001E, B25088_002E, B25088_003E]  \n",
       "B25089                [B25089_001E, B25089_002E, B25089_003E]  \n",
       "B25091      [B25091_001E, B25091_002E, B25091_003E, B25091...  \n",
       "B25092                [B25092_001E, B25092_002E, B25092_003E]  \n",
       "B25093      [B25093_001E, B25093_002E, B25093_003E, B25093...  \n",
       "B25094      [B25094_001E, B25094_002E, B25094_003E, B25094...  \n",
       "B25095      [B25095_001E, B25095_002E, B25095_003E, B25095...  \n",
       "B25101      [B25101_001E, B25101_002E, B25101_003E, B25101...  \n",
       "B25104      [B25104_001E, B25104_002E, B25104_003E, B25104...  \n",
       "B25105                                          [B25105_001E]  \n",
       "B25106      [B25106_001E, B25106_002E, B25106_003E, B25106...  \n",
       "B992522     [B992522_001E, B992522_002E, B992522_003E, B99...  \n",
       "B992523            [B992523_001E, B992523_002E, B992523_003E]  "
      ]
     },
     "execution_count": 21,
     "metadata": {},
     "output_type": "execute_result"
    }
   ],
   "source": [
    "acs.filter_tables('COST', by='description')\n",
    "\n"
   ]
  },
  {
   "cell_type": "code",
   "execution_count": 22,
   "metadata": {},
   "outputs": [
    {
     "data": {
      "text/html": [
       "<div>\n",
       "<style scoped>\n",
       "    .dataframe tbody tr th:only-of-type {\n",
       "        vertical-align: middle;\n",
       "    }\n",
       "\n",
       "    .dataframe tbody tr th {\n",
       "        vertical-align: top;\n",
       "    }\n",
       "\n",
       "    .dataframe thead th {\n",
       "        text-align: right;\n",
       "    }\n",
       "</style>\n",
       "<table border=\"1\" class=\"dataframe\">\n",
       "  <thead>\n",
       "    <tr style=\"text-align: right;\">\n",
       "      <th></th>\n",
       "      <th>description</th>\n",
       "      <th>columns</th>\n",
       "    </tr>\n",
       "    <tr>\n",
       "      <th>table_name</th>\n",
       "      <th></th>\n",
       "      <th></th>\n",
       "    </tr>\n",
       "  </thead>\n",
       "  <tbody>\n",
       "    <tr>\n",
       "      <th>B25104</th>\n",
       "      <td>MONTHLY HOUSING COSTS</td>\n",
       "      <td>[B25104_001E, B25104_002E, B25104_003E, B25104...</td>\n",
       "    </tr>\n",
       "  </tbody>\n",
       "</table>\n",
       "</div>"
      ],
      "text/plain": [
       "                      description  \\\n",
       "table_name                          \n",
       "B25104      MONTHLY HOUSING COSTS   \n",
       "\n",
       "                                                      columns  \n",
       "table_name                                                     \n",
       "B25104      [B25104_001E, B25104_002E, B25104_003E, B25104...  "
      ]
     },
     "execution_count": 22,
     "metadata": {},
     "output_type": "execute_result"
    }
   ],
   "source": [
    "acs.filter_tables('B25104')"
   ]
  },
  {
   "cell_type": "code",
   "execution_count": null,
   "metadata": {},
   "outputs": [],
   "source": []
  }
 ],
 "metadata": {
  "kernelspec": {
   "display_name": "parsonsVenv",
   "language": "python",
   "name": "python3"
  },
  "language_info": {
   "codemirror_mode": {
    "name": "ipython",
    "version": 3
   },
   "file_extension": ".py",
   "mimetype": "text/x-python",
   "name": "python",
   "nbconvert_exporter": "python",
   "pygments_lexer": "ipython3",
   "version": "3.10.9"
  },
  "orig_nbformat": 4,
  "vscode": {
   "interpreter": {
    "hash": "168f3902992109ce5cb062d048aeb8fad81a7e1f130c1f629b9f3fcbca817379"
   }
  }
 },
 "nbformat": 4,
 "nbformat_minor": 2
}

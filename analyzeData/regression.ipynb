{
 "cells": [
  {
   "cell_type": "code",
   "execution_count": 1,
   "outputs": [],
   "source": [
    "import sklearn as sk\n",
    "from sklearn.linear_model import LinearRegression\n",
    "import pandas as pd"
   ],
   "metadata": {
    "collapsed": false,
    "pycharm": {
     "name": "#%%\n"
    }
   }
  },
  {
   "cell_type": "code",
   "execution_count": 2,
   "outputs": [],
   "source": [
    "def regress(*args):\n",
    "    #import dependencies\n",
    "    import sklearn as sk\n",
    "    from sklearn.linear_model import LinearRegression\n",
    "    model = LinearRegression()\n",
    "    from sklearn import feature_selection\n",
    "    import statsmodels.api as sm\n",
    "    from patsy import dmatrices\n",
    "    import matplotlib.pyplot as plt\n",
    "\n",
    "    #define arguments\n",
    "    dataframe=args[0]\n",
    "    y=args[1]\n",
    "    xvars=[]\n",
    "    for i in range(2,len(args)):\n",
    "        xvars.append(args[i])\n",
    "    x = dataframe[[item for item in xvars]]\n",
    "    y = dataframe[y].values.reshape(-1, 1)\n",
    "    #fit the model\n",
    "    model.fit(x,y)\n",
    "\n",
    "    #Generate Fit Statistics\n",
    "    ##prep data for patsy\n",
    "    list=[]\n",
    "    for item in xvars:\n",
    "        list.append(f' + {item}')\n",
    "    string=\"\".join(list)\n",
    "    newstring=string[3:]\n",
    "\n",
    "    ind=args[1]\n",
    "    ind=ind.strip('\"')\n",
    "\n",
    "    ##Get fitstats from patsy\n",
    "    Y,X = dmatrices(f\"{ind} ~ {newstring}\", data=dataframe, return_type=\"dataframe\")\n",
    "    ols = sm.OLS(Y, X)\n",
    "    ols_result = ols.fit()\n",
    "    print(ols_result.summary())\n",
    "\n",
    "    #Plot the Residuals\n",
    "    print(\"\\n Residual Plot\")\n",
    "    predictions = model.predict(x)\n",
    "    plt.scatter(predictions, predictions - y, color='coral',linewidths=0.5)\n",
    "    plt.hlines(y=0, xmin=predictions.min(), xmax=predictions.max(), color='brown', linewidth=3)\n",
    "    plt.show()"
   ],
   "metadata": {
    "collapsed": false,
    "pycharm": {
     "name": "#%%\n"
    }
   }
  },
  {
   "cell_type": "code",
   "execution_count": 3,
   "outputs": [],
   "source": [
    "df = pd.read_csv(\"../localData/regressionData1.csv\")"
   ],
   "metadata": {
    "collapsed": false,
    "pycharm": {
     "name": "#%%\n"
    }
   }
  },
  {
   "cell_type": "code",
   "execution_count": 7,
   "outputs": [
    {
     "data": {
      "text/plain": "   Unnamed: 0        GEOID                                           geometry  \\\n0           0  17031171100  POLYGON ((-87.78634604202203 41.94548302117783...   \n1           1  17031191301  POLYGON ((-87.78544296566692 41.92367802729522...   \n2           2  17031191302  POLYGON ((-87.77571600777046 41.92382700867927...   \n3           3  17031190701  POLYGON ((-87.76624596804527 41.93127697094171...   \n4           4  17031252102  POLYGON ((-87.76486399981219 41.88024599286711...   \n\n   B01003_001E  B02009_001E  B19013_001E  state  county   tract  \\\n0       4013.0         34.0      69330.0     17      31  171100   \n1       5525.0        476.0      50046.0     17      31  191301   \n2       5046.0        176.0      45962.0     17      31  191302   \n3       2735.0         77.0      42270.0     17      31  190701   \n4       6864.0       6264.0      38500.0     17      31  252102   \n\n   black_population  total_population  proportion_black  \\\n0              34.0            4013.0          0.008472   \n1             476.0            5525.0          0.086154   \n2             176.0            5046.0          0.034879   \n3              77.0            2735.0          0.028154   \n4            6264.0            6864.0          0.912587   \n\n   median_household_income_past_12_months  number_of_facilities_in_tract  \\\n0                                  4013.0                            0.0   \n1                                  5525.0                            0.0   \n2                                  5046.0                            2.0   \n3                                  2735.0                            0.0   \n4                                  6864.0                            0.0   \n\n   distance_nearest_facility  \n0                2477.360557  \n1                 597.459824  \n2                   0.000000  \n3                1210.359102  \n4                1173.119840  ",
      "text/html": "<div>\n<style scoped>\n    .dataframe tbody tr th:only-of-type {\n        vertical-align: middle;\n    }\n\n    .dataframe tbody tr th {\n        vertical-align: top;\n    }\n\n    .dataframe thead th {\n        text-align: right;\n    }\n</style>\n<table border=\"1\" class=\"dataframe\">\n  <thead>\n    <tr style=\"text-align: right;\">\n      <th></th>\n      <th>Unnamed: 0</th>\n      <th>GEOID</th>\n      <th>geometry</th>\n      <th>B01003_001E</th>\n      <th>B02009_001E</th>\n      <th>B19013_001E</th>\n      <th>state</th>\n      <th>county</th>\n      <th>tract</th>\n      <th>black_population</th>\n      <th>total_population</th>\n      <th>proportion_black</th>\n      <th>median_household_income_past_12_months</th>\n      <th>number_of_facilities_in_tract</th>\n      <th>distance_nearest_facility</th>\n    </tr>\n  </thead>\n  <tbody>\n    <tr>\n      <th>0</th>\n      <td>0</td>\n      <td>17031171100</td>\n      <td>POLYGON ((-87.78634604202203 41.94548302117783...</td>\n      <td>4013.0</td>\n      <td>34.0</td>\n      <td>69330.0</td>\n      <td>17</td>\n      <td>31</td>\n      <td>171100</td>\n      <td>34.0</td>\n      <td>4013.0</td>\n      <td>0.008472</td>\n      <td>4013.0</td>\n      <td>0.0</td>\n      <td>2477.360557</td>\n    </tr>\n    <tr>\n      <th>1</th>\n      <td>1</td>\n      <td>17031191301</td>\n      <td>POLYGON ((-87.78544296566692 41.92367802729522...</td>\n      <td>5525.0</td>\n      <td>476.0</td>\n      <td>50046.0</td>\n      <td>17</td>\n      <td>31</td>\n      <td>191301</td>\n      <td>476.0</td>\n      <td>5525.0</td>\n      <td>0.086154</td>\n      <td>5525.0</td>\n      <td>0.0</td>\n      <td>597.459824</td>\n    </tr>\n    <tr>\n      <th>2</th>\n      <td>2</td>\n      <td>17031191302</td>\n      <td>POLYGON ((-87.77571600777046 41.92382700867927...</td>\n      <td>5046.0</td>\n      <td>176.0</td>\n      <td>45962.0</td>\n      <td>17</td>\n      <td>31</td>\n      <td>191302</td>\n      <td>176.0</td>\n      <td>5046.0</td>\n      <td>0.034879</td>\n      <td>5046.0</td>\n      <td>2.0</td>\n      <td>0.000000</td>\n    </tr>\n    <tr>\n      <th>3</th>\n      <td>3</td>\n      <td>17031190701</td>\n      <td>POLYGON ((-87.76624596804527 41.93127697094171...</td>\n      <td>2735.0</td>\n      <td>77.0</td>\n      <td>42270.0</td>\n      <td>17</td>\n      <td>31</td>\n      <td>190701</td>\n      <td>77.0</td>\n      <td>2735.0</td>\n      <td>0.028154</td>\n      <td>2735.0</td>\n      <td>0.0</td>\n      <td>1210.359102</td>\n    </tr>\n    <tr>\n      <th>4</th>\n      <td>4</td>\n      <td>17031252102</td>\n      <td>POLYGON ((-87.76486399981219 41.88024599286711...</td>\n      <td>6864.0</td>\n      <td>6264.0</td>\n      <td>38500.0</td>\n      <td>17</td>\n      <td>31</td>\n      <td>252102</td>\n      <td>6264.0</td>\n      <td>6864.0</td>\n      <td>0.912587</td>\n      <td>6864.0</td>\n      <td>0.0</td>\n      <td>1173.119840</td>\n    </tr>\n  </tbody>\n</table>\n</div>"
     },
     "execution_count": 7,
     "metadata": {},
     "output_type": "execute_result"
    }
   ],
   "source": [
    "df.head()"
   ],
   "metadata": {
    "collapsed": false,
    "pycharm": {
     "name": "#%%\n"
    }
   }
  },
  {
   "cell_type": "code",
   "execution_count": null,
   "outputs": [],
   "source": [
    "regress(df, \"distance_nearest_facility\", \"proportion_black\")\n",
    "#a one percent increase in the black population of a census tract is associated with a 264 meter increase (not decrease?) in the distance from a toxic facility"
   ],
   "metadata": {
    "collapsed": false,
    "pycharm": {
     "name": "#%%\n",
     "is_executing": true
    }
   }
  },
  {
   "cell_type": "code",
   "execution_count": null,
   "outputs": [],
   "source": [
    "regress(df, \"distance_nearest_facility\", \"proportion_black\", \"median_household_income_past_12_months\")"
   ],
   "metadata": {
    "collapsed": false,
    "pycharm": {
     "name": "#%%\n",
     "is_executing": true
    }
   }
  },
  {
   "cell_type": "code",
   "execution_count": null,
   "outputs": [],
   "source": [],
   "metadata": {
    "collapsed": false,
    "pycharm": {
     "name": "#%%\n",
     "is_executing": true
    }
   }
  },
  {
   "cell_type": "code",
   "execution_count": null,
   "outputs": [],
   "source": [],
   "metadata": {
    "collapsed": false,
    "pycharm": {
     "name": "#%%\n"
    }
   }
  }
 ],
 "metadata": {
  "kernelspec": {
   "display_name": "Python 3",
   "language": "python",
   "name": "python3"
  },
  "language_info": {
   "codemirror_mode": {
    "name": "ipython",
    "version": 2
   },
   "file_extension": ".py",
   "mimetype": "text/x-python",
   "name": "python",
   "nbconvert_exporter": "python",
   "pygments_lexer": "ipython2",
   "version": "2.7.6"
  }
 },
 "nbformat": 4,
 "nbformat_minor": 0
}
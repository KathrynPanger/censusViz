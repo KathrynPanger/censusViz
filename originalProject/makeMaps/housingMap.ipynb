{
 "cells": [
  {
   "cell_type": "code",
   "execution_count": 9,
   "outputs": [],
   "source": [
    "import contextily as cx\n",
    "import matplotlib.pyplot as plt\n",
    "import pandas as pd\n",
    "from shapely import wkt\n",
    "import geopandas as gpd"
   ],
   "metadata": {
    "collapsed": false,
    "pycharm": {
     "name": "#%%\n"
    }
   }
  },
  {
   "cell_type": "markdown",
   "source": [],
   "metadata": {
    "collapsed": false,
    "pycharm": {
     "name": "#%% md\n"
    }
   }
  },
  {
   "cell_type": "code",
   "execution_count": 10,
   "outputs": [],
   "source": [
    "chicagoDf = pd.read_csv(\"../localData/censusVars.csv\")\n",
    "chicagoDf['geometry'] = chicagoDf['geometry'].apply(wkt.loads)\n",
    "chicagoDf = gpd.GeoDataFrame(chicagoDf, crs='epsg:4326')"
   ],
   "metadata": {
    "collapsed": false,
    "pycharm": {
     "name": "#%%\n"
    }
   }
  },
  {
   "cell_type": "code",
   "execution_count": null,
   "outputs": [],
   "source": [
    "f, ax = plt.subplots(1,1,figsize=(20,20))\n",
    "ax.set_axis_off();\n",
    "chicagoDf.plot(edgecolor='slategrey', color='none', ax=ax)\n",
    "ax.set_facecolor('k')\n",
    "chicagoDf['housing_cost'] = chicagoDf.eval('B25105_001E')\n",
    "chicagoDf.plot('housing_cost', cmap='plasma', ax = ax, alpha=0.3, legend = True, cax = None, color = None)\n",
    "cx.add_basemap(ax, crs=chicagoDf.crs.to_string(), source=cx.providers.CartoDB.Voyager, zoom=12, alpha = 1)\n",
    "\n",
    "title = 'Median Housing Cost in the Past 12 Months'\n",
    "ax.set_title(title)\n",
    "plt.savefig(f\"../mapImages/{title.replace(' ', '')}.png\")"
   ],
   "metadata": {
    "collapsed": false,
    "pycharm": {
     "name": "#%%\n",
     "is_executing": true
    }
   }
  },
  {
   "cell_type": "code",
   "execution_count": null,
   "outputs": [],
   "source": [
    "chicagoDf.explore()"
   ],
   "metadata": {
    "collapsed": false,
    "pycharm": {
     "name": "#%%\n"
    }
   }
  }
 ],
 "metadata": {
  "kernelspec": {
   "display_name": "Python 3",
   "language": "python",
   "name": "python3"
  },
  "language_info": {
   "codemirror_mode": {
    "name": "ipython",
    "version": 2
   },
   "file_extension": ".py",
   "mimetype": "text/x-python",
   "name": "python",
   "nbconvert_exporter": "python",
   "pygments_lexer": "ipython2",
   "version": "2.7.6"
  }
 },
 "nbformat": 4,
 "nbformat_minor": 0
}
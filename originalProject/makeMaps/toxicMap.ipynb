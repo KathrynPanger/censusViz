{
 "cells": [
  {
   "cell_type": "code",
   "execution_count": 8,
   "metadata": {
    "collapsed": false,
    "pycharm": {
     "name": "#%%\n"
    }
   },
   "outputs": [
    {
     "name": "stderr",
     "output_type": "stream",
     "text": [
      "/Users/kathrynpanger/opt/anaconda3/envs/censusViz2/lib/python3.10/site-packages/fuzzywuzzy/fuzz.py:11: UserWarning: Using slow pure-python SequenceMatcher. Install python-Levenshtein to remove this warning\n",
      "  warnings.warn('Using slow pure-python SequenceMatcher. Install python-Levenshtein to remove this warning')\n"
     ]
    }
   ],
   "source": [
    "import contextily as cx\n",
    "import matplotlib.pyplot as plt\n",
    "import cenpy\n",
    "import pandas as pd\n",
    "import geopandas as gpd\n",
    "import contextily as cx\n",
    "import matplotlib.pyplot as plt\n",
    "import pandas as pd\n",
    "from shapely import wkt\n",
    "import geopandas as gpd"
   ]
  },
  {
   "cell_type": "code",
   "execution_count": 14,
   "metadata": {
    "collapsed": false,
    "pycharm": {
     "name": "#%%\n"
    }
   },
   "outputs": [],
   "source": [
    "toxicDf = pd.read_csv(\"../localData/epa_tri_toxic_waste_2019.csv\")\n",
    "toxicDf = toxicDf.loc[toxicDf[\"6. CITY\"] == \"CHICAGO\"]\n",
    "toxicDf = gpd.GeoDataFrame(toxicDf, geometry=gpd.points_from_xy(toxicDf[\"13. LONGITUDE\"], toxicDf[\"12. LATITUDE\"])).set_crs(\"EPSG:4326\")"
   ]
  },
  {
   "cell_type": "code",
   "execution_count": 21,
   "metadata": {
    "collapsed": false,
    "pycharm": {
     "name": "#%%\n"
    }
   },
   "outputs": [],
   "source": [
    "chicagoDf = pd.read_csv(\"../localData/censusVars.csv\")\n",
    "chicagoDf['geometry'] = chicagoDf['geometry'].apply(wkt.loads)\n",
    "chicagoDf = gpd.GeoDataFrame(chicagoDf, crs='epsg:4326')"
   ]
  },
  {
   "cell_type": "code",
   "execution_count": null,
   "metadata": {
    "collapsed": false,
    "pycharm": {
     "name": "#%%\n"
    }
   },
   "outputs": [],
   "source": [
    "f, ax = plt.subplots(1,1,figsize=(20,20))\n",
    "ax.set_axis_off();\n",
    "chicagoDf.plot(edgecolor='slategrey', color='none', ax=ax)\n",
    "cx.add_basemap(ax, crs=chicagoDf.crs.to_string(), source=cx.providers.CartoDB.Voyager, zoom=12, alpha = 1)\n",
    "toxicDf.plot(ax=ax, color='yellow', alpha = 0.3, edgecolors = \"black\")\n",
    "\n",
    "title = 'Location of Toxic Waste Centers\\n(note: opaque markers represent more than one center at location)'\n",
    "ax.set_title(title)\n"
   ]
  },
  {
   "cell_type": "code",
   "execution_count": 30,
   "metadata": {
    "collapsed": false,
    "pycharm": {
     "name": "#%%\n"
    }
   },
   "outputs": [],
   "source": [
    "#Get correct units to make marker sizes reasonable\n",
    "def categorical_to_numeric(df_column):\n",
    "    unique_dict = {df_column.unique()[i]: i for i in range(len(df_column.unique()))}\n",
    "    return df_column.map(unique_dict)\n",
    "\n",
    "conversion_dict = {1:453.592, 0:1}\n",
    "toxicDf[\"pounds_to_grams\"] = categorical_to_numeric(toxicDf[\"47. UNIT OF MEASURE\"]).map(conversion_dict)\n",
    "toxicDf[\"adjusted_onsite_release\"]=toxicDf[\"62. ON-SITE RELEASE TOTAL\"] * toxicDf[\"pounds_to_grams\"]"
   ]
  },
  {
   "cell_type": "code",
   "execution_count": 31,
   "metadata": {},
   "outputs": [
    {
     "data": {
      "text/plain": [
       "37        3431.00\n",
       "248        166.00\n",
       "323          1.00\n",
       "526         70.99\n",
       "607          0.00\n",
       "           ...   \n",
       "77541    18200.00\n",
       "77578        0.00\n",
       "79350        2.51\n",
       "79442     1709.00\n",
       "79650     1314.00\n",
       "Name: adjusted_onsite_release, Length: 303, dtype: float64"
      ]
     },
     "execution_count": 31,
     "metadata": {},
     "output_type": "execute_result"
    }
   ],
   "source": [
    "toxicDf[\"adjusted_onsite_release\"]"
   ]
  },
  {
   "cell_type": "code",
   "execution_count": null,
   "metadata": {
    "collapsed": false,
    "pycharm": {
     "is_executing": true,
     "name": "#%%\n"
    }
   },
   "outputs": [],
   "source": [
    "f, ax = plt.subplots(1,1,figsize=(20,20))\n",
    "ax.set_axis_off();\n",
    "chicagoDf.plot(edgecolor='slategrey', color='none', ax=ax)\n",
    "# # chicago_bounds.plot(edgecolor='cornsilk', color='none', ax=ax, linewidth=2)\n",
    "# chicago.plot('proportion_black', cmap='Blues', ax = ax, alpha=0.5, legend = True, cax = None, color = None, vmin=0, vmax=1)\n",
    "# toxicDf.plot(ax=ax, color='red', alpha = 0.5, markersize=toxicDf[\"62. ON-SITE RELEASE TOTAL\"])\n",
    "toxicDf.plot(ax=ax, color='yellow', alpha = 0.3, edgecolors = \"black\", markersize=toxicDf[\"adjusted_onsite_release\"])\n",
    "cx.add_basemap(ax, crs=chicagoDf.crs.to_string(), source=cx.providers.CartoDB.Voyager, zoom=12, alpha = 1)\n",
    "\n",
    "title = 'Location of Toxic Waste Centers in Chicago: Markers Scaled By Quantity of On-Site Emissions'\n",
    "ax.set_title(title)\n",
    "plt.savefig(\"toxicMapRedux.png\")"
   ]
  },
  {
   "cell_type": "code",
   "execution_count": null,
   "metadata": {
    "collapsed": false,
    "pycharm": {
     "is_executing": true,
     "name": "#%%\n"
    }
   },
   "outputs": [],
   "source": [
    "f, ax = plt.subplots(1,1,figsize=(20,20))\n",
    "ax.set_axis_off();\n",
    "chicagoDf.plot(edgecolor='slategrey', color='none', ax=ax)\n",
    "chicagoDf.plot('proportion_alone_black', cmap='Blues', ax = ax, alpha=0.5, legend = True, cax = None, color = None, vmin=0, vmax=1)\n",
    "\n",
    "cx.add_basemap(ax, crs=chicagoDf.crs.to_string(), source=cx.providers.CartoDB.Voyager, zoom=12, alpha = 1)\n",
    "toxicDf.plot(ax=ax, color='yellow', alpha = 0.3, edgecolors = \"black\")\n",
    "\n",
    "title = 'Location of Toxic Waste Centers Relative to Black-Alone Population Before Considering Emission Quantity'\n",
    "ax.set_title(title)\n",
    "plt.savefig(f\"mapImages/{title.replace(' ', '')}.png\")"
   ]
  },
  {
   "cell_type": "code",
   "execution_count": null,
   "metadata": {
    "collapsed": false,
    "pycharm": {
     "is_executing": true,
     "name": "#%%\n"
    }
   },
   "outputs": [],
   "source": [
    "plt.savefig(f\"mapImages/{title.replace(' ', '')}.png\")\n",
    "f, ax = plt.subplots(1, 1, figsize=(20, 20))\n",
    "ax.set_axis_off();\n",
    "chicagoDf.plot(edgecolor='slategrey', color='none', ax=ax)\n",
    "chicagoDf.plot('proportion_alone_black', cmap='Blues', ax=ax, alpha=0.5, legend=True, cax=None, color=None, vmin=0,\n",
    "               vmax=1)\n",
    "\n",
    "cx.add_basemap(ax, crs=chicagoDf.crs.to_string(), source=cx.providers.CartoDB.Voyager, zoom=12, alpha=1)\n",
    "toxicDf.plot(ax=ax, color='yellow', alpha = 0.3, edgecolors = \"black\", markersize=toxicDf[\"adjusted_onsite_release\"])\n",
    "\n",
    "title = 'Location of Toxic Waste Centers Relative to Black-Alone Population After Considering Emission Quantity'\n",
    "ax.set_title(title)\n",
    "plt.savefig(f\"mapImages/{title.replace(' ', '')}.png\")"
   ]
  },
  {
   "cell_type": "code",
   "execution_count": null,
   "metadata": {
    "collapsed": false,
    "pycharm": {
     "is_executing": true,
     "name": "#%%\n"
    }
   },
   "outputs": [],
   "source": [
    "plt.savefig(f\"mapImages/{title.replace(' ', '')}.png\")\n",
    "f, ax = plt.subplots(1, 1, figsize=(20, 20))\n",
    "ax.set_axis_off();\n",
    "chicagoDf.plot(edgecolor='slategrey', color='none', ax=ax)\n",
    "chicagoDf.plot('proportion_alone_white', cmap='Reds', ax=ax, alpha=0.5, legend=True, cax=None, color=None, vmin=0,\n",
    "               vmax=1)\n",
    "\n",
    "cx.add_basemap(ax, crs=chicagoDf.crs.to_string(), source=cx.providers.CartoDB.Voyager, zoom=12, alpha=1)\n",
    "toxicDf.plot(ax=ax, color='yellow', alpha = 0.3, edgecolors = \"black\", markersize=toxicDf[\"adjusted_onsite_release\"])\n",
    "\n",
    "title = 'Location of Toxic Waste Centers Relative to White-Alone Population After Considering Emission Quantity'\n",
    "ax.set_title(title)\n",
    "plt.savefig(f\"mapImages/{title.replace(' ', '')}.png\")"
   ]
  },
  {
   "cell_type": "code",
   "execution_count": 91,
   "metadata": {
    "collapsed": false,
    "pycharm": {
     "name": "#%%\n"
    }
   },
   "outputs": [],
   "source": [
    "quantile = chicagoDf[\"proportion_alone_black\"].quantile(q = 0.75)\n",
    "chicagoDf['pop_if_over_quantile'] = chicagoDf[\"proportion_alone_black\"].apply(lambda x: round(x,2) if x>quantile else \" \")"
   ]
  },
  {
   "cell_type": "code",
   "execution_count": null,
   "metadata": {
    "collapsed": false,
    "pycharm": {
     "is_executing": true,
     "name": "#%%\n"
    }
   },
   "outputs": [],
   "source": [
    "plt.savefig(f\"mapImages/{title.replace(' ', '')}.png\")\n",
    "f, ax = plt.subplots(1, 1, figsize=(20, 20))\n",
    "ax.set_axis_off();\n",
    "chicagoDf.plot(edgecolor='slategrey', color='none', ax=ax)\n",
    "chicagoDf.plot('proportion_alone_black', cmap='Blues', ax=ax, alpha=0.5, legend=True, cax=None, color=None, vmin=0,\n",
    "               vmax=1)\n",
    "\n",
    "cx.add_basemap(ax, crs=chicagoDf.crs.to_string(), source=cx.providers.CartoDB.Voyager, zoom=12, alpha=1)\n",
    "toxicDf.plot(ax=ax, color='yellow', alpha = 0.3, edgecolors = \"black\", markersize=toxicDf[\"adjusted_onsite_release\"])\n",
    "chicagoDf.apply(lambda x: ax.annotate(text=x['pop_if_over_quantile'], xy=x.geometry.centroid.coords[0], ha='center'), axis=1);#add population annotation if over quantile\n",
    "title = 'Location of Toxic Waste Centers Relative to Black-Alone Population After Considering Emission Quantity \\n25% Most-Black neighborhoods Labeled With Population Proportion'\n",
    "ax.set_title(title)\n",
    "plt.savefig(f\"mapImages/{title.replace(' ', '')}.png\")"
   ]
  },
  {
   "cell_type": "code",
   "execution_count": null,
   "metadata": {
    "collapsed": false,
    "pycharm": {
     "name": "#%%\n"
    }
   },
   "outputs": [],
   "source": [
    "toxicDf"
   ]
  },
  {
   "cell_type": "code",
   "execution_count": null,
   "metadata": {
    "collapsed": false,
    "pycharm": {
     "name": "#%%\n"
    }
   },
   "outputs": [],
   "source": []
  }
 ],
 "metadata": {
  "kernelspec": {
   "display_name": "censusViz2",
   "language": "python",
   "name": "python3"
  },
  "language_info": {
   "codemirror_mode": {
    "name": "ipython",
    "version": 3
   },
   "file_extension": ".py",
   "mimetype": "text/x-python",
   "name": "python",
   "nbconvert_exporter": "python",
   "pygments_lexer": "ipython3",
   "version": "3.10.9"
  },
  "vscode": {
   "interpreter": {
    "hash": "bf86c326d0183f1f15d63e4afc3b72535647c482a36cc6caafa75ce6330e30d4"
   }
  }
 },
 "nbformat": 4,
 "nbformat_minor": 0
}

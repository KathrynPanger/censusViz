{
 "cells": [
  {
   "cell_type": "code",
   "execution_count": 26,
   "outputs": [],
   "source": [
    "import contextily as cx\n",
    "import matplotlib.pyplot as plt\n",
    "import pandas as pd\n",
    "from shapely import wkt\n",
    "import geopandas as gpd"
   ],
   "metadata": {
    "collapsed": false,
    "pycharm": {
     "name": "#%%\n"
    }
   }
  },
  {
   "cell_type": "code",
   "execution_count": 27,
   "outputs": [],
   "source": [
    "chicagoDf = pd.read_csv(\"../localData/censusVars.csv\")\n",
    "chicagoDf['geometry'] = chicagoDf['geometry'].apply(wkt.loads)\n",
    "chicagoDf = gpd.GeoDataFrame(chicagoDf, crs='epsg:4326')"
   ],
   "metadata": {
    "collapsed": false,
    "pycharm": {
     "name": "#%%\n"
    }
   }
  },
  {
   "cell_type": "code",
   "execution_count": 28,
   "outputs": [],
   "source": [
    "quantile = chicagoDf[\"proportion_alone_white\"].quantile(q = 0.75)\n",
    "chicagoDf['pop_if_over_quantile'] = chicagoDf[\"proportion_alone_white\"].apply(lambda x: round(x,2) if x>quantile else \" \")"
   ],
   "metadata": {
    "collapsed": false,
    "pycharm": {
     "name": "#%%\n"
    }
   }
  },
  {
   "cell_type": "code",
   "execution_count": null,
   "outputs": [],
   "source": [
    "f, ax = plt.subplots(1,1,figsize=(20,20))\n",
    "ax.set_axis_off();\n",
    "chicagoDf.plot(edgecolor='slategrey', color='none', ax=ax)\n",
    "ax.set_facecolor('k')\n",
    "chicagoDf.plot('proportion_alone_white', cmap='Reds', ax = ax, alpha=0.5, legend = True, cax = None, color = None, vmin=0, vmax=1) #add population\n",
    "chicagoDf.apply(lambda x: ax.annotate(text=x['pop_if_over_quantile'], xy=x.geometry.centroid.coords[0], ha='center'), axis=1);#add population annotation if over quantile\n",
    "cx.add_basemap(ax, crs=chicagoDf.crs.to_string(), source=cx.providers.CartoDB.Voyager, zoom=12, alpha = 1)\n",
    "\n",
    "title = 'Proportion of Residents White-Alone by Tract: Labels for Top Quartile White'\n",
    "ax.set_title(title)\n",
    "plt.savefig(f\"../mapImages/{title.replace(' ', '')}.png\")"
   ],
   "metadata": {
    "collapsed": false,
    "pycharm": {
     "name": "#%%\n",
     "is_executing": true
    }
   }
  },
  {
   "cell_type": "code",
   "execution_count": null,
   "outputs": [],
   "source": [
    "f, ax = plt.subplots(1,1,figsize=(20,20))\n",
    "ax.set_axis_off();\n",
    "chicagoDf.plot(edgecolor='slategrey', color='none', ax=ax)\n",
    "ax.set_facecolor('k')\n",
    "chicagoDf.plot('proportion_alone_white', cmap='Reds', ax = ax, alpha=0.5, legend = True, cax = None, color = None, vmin=0, vmax=1) #add population\n",
    "cx.add_basemap(ax, crs=chicagoDf.crs.to_string(), source=cx.providers.CartoDB.Voyager, zoom=12, alpha = 1)\n",
    "\n",
    "title = 'Proportion of Residents White-Alone by Tract'\n",
    "ax.set_title(title)\n",
    "plt.savefig(f\"../mapImages/{title.repalce(' ', '')}.png\")"
   ],
   "metadata": {
    "collapsed": false,
    "pycharm": {
     "name": "#%%\n",
     "is_executing": true
    }
   }
  },
  {
   "cell_type": "code",
   "execution_count": null,
   "outputs": [],
   "source": [
    "# chicagoDf.explore()"
   ],
   "metadata": {
    "collapsed": false,
    "pycharm": {
     "name": "#%%\n"
    }
   }
  },
  {
   "cell_type": "code",
   "execution_count": null,
   "outputs": [],
   "source": [],
   "metadata": {
    "collapsed": false,
    "pycharm": {
     "name": "#%%\n"
    }
   }
  }
 ],
 "metadata": {
  "kernelspec": {
   "display_name": "Python 3",
   "language": "python",
   "name": "python3"
  },
  "language_info": {
   "codemirror_mode": {
    "name": "ipython",
    "version": 2
   },
   "file_extension": ".py",
   "mimetype": "text/x-python",
   "name": "python",
   "nbconvert_exporter": "python",
   "pygments_lexer": "ipython2",
   "version": "2.7.6"
  }
 },
 "nbformat": 4,
 "nbformat_minor": 0
}
{
 "cells": [
  {
   "cell_type": "code",
   "execution_count": 4,
   "outputs": [],
   "source": [
    "import cenpy\n",
    "import pandas as pd\n",
    "import geopandas as gpd"
   ],
   "metadata": {
    "collapsed": false,
    "pycharm": {
     "name": "#%%\n"
    }
   }
  },
  {
   "cell_type": "code",
   "execution_count": 5,
   "outputs": [],
   "source": [
    "acs = cenpy.products.ACS()"
   ],
   "metadata": {
    "collapsed": false,
    "pycharm": {
     "name": "#%%\n"
    }
   }
  },
  {
   "cell_type": "code",
   "execution_count": 8,
   "outputs": [
    {
     "name": "stdout",
     "output_type": "stream",
     "text": [
      "Matched: Chicago, IL to Chicago city within layer Incorporated Places\n"
     ]
    },
    {
     "name": "stderr",
     "output_type": "stream",
     "text": [
      "/var/folders/lw/jy_c2z0x221fsb78kk1_h2800000gn/T/ipykernel_30247/2939512179.py:10: FutureWarning: The `op` parameter is deprecated and will be removed in a future release. Please use the `predicate` parameter instead.\n",
      "  chicago, chicago_bounds = acs.from_place('Chicago, IL', variables=variables, level = \"tract\", return_bounds = True)\n"
     ]
    }
   ],
   "source": [
    "# VARIABLES OF INTEREST\n",
    "# B02008_001E = White alone or in combination with one or more races\n",
    "# B02009_001E = Black alone or in combination with one or more races\n",
    "# B02001_002E = White alone\n",
    "# B01003_001E = Total Population\n",
    "# B19013_001E = median household income in the past 12 months\n",
    "# B02001_003E = black alone\n",
    "# B25105_001E = median housing cost in the past 12 months\n",
    "\n",
    "variables = ['B02008_001E', 'B02001_002E', 'B02009_001E', 'B02001_003E', 'B19013_001E', 'B25105_001E', 'B01003_001E']\n",
    "chicago, chicago_bounds = acs.from_place('Chicago, IL', variables=variables, level = \"tract\", return_bounds = True)\n",
    "#convert to compatible CRS immediately\n",
    "chicago = chicago.to_crs(\"EPSG:4326\")\n",
    "\n",
    "#race vars\n",
    "chicago['white_some_population'] = chicago.eval('B02008_001E')\n",
    "chicago[\"white_alone_population\"] = chicago.eval('B02001_002E')\n",
    "chicago['black_some_population'] = chicago.eval('B02009_001E')\n",
    "chicago[\"black_alone_population\"] = chicago.eval('B02001_003E')\n",
    "\n",
    "#housing and income vars\n",
    "chicago[\"median_household_income_past_12_months\"] = chicago.eval('B19013_001E')\n",
    "chicago[\"median_housing_cost_past_12_months\"] = chicago.eval('B25105_001E')\n",
    "chicago['total_population'] = chicago.eval('B01003_001E')\n",
    "\n",
    "#derived variables\n",
    "chicago[\"proportion_some_black\"] = chicago[\"black_some_population\"] / chicago[\"total_population\"]\n",
    "chicago[\"proportion_alone_black\"] = chicago[\"black_alone_population\"] / chicago[\"total_population\"]\n",
    "chicago[\"proportion_some_white\"] = chicago[\"white_some_population\"] / chicago[\"total_population\"]\n",
    "chicago[\"proportion_alone_white\"] = chicago[\"white_alone_population\"] / chicago[\"total_population\"]\n",
    "\n"
   ],
   "metadata": {
    "collapsed": false,
    "pycharm": {
     "name": "#%%\n"
    }
   }
  },
  {
   "cell_type": "code",
   "execution_count": 10,
   "outputs": [],
   "source": [
    "censusVars = chicago.to_csv(\"../localData/censusVars.csv\")"
   ],
   "metadata": {
    "collapsed": false,
    "pycharm": {
     "name": "#%%\n"
    }
   }
  },
  {
   "cell_type": "code",
   "execution_count": null,
   "outputs": [],
   "source": [],
   "metadata": {
    "collapsed": false,
    "pycharm": {
     "name": "#%%\n"
    }
   }
  }
 ],
 "metadata": {
  "kernelspec": {
   "display_name": "Python 3",
   "language": "python",
   "name": "python3"
  },
  "language_info": {
   "codemirror_mode": {
    "name": "ipython",
    "version": 2
   },
   "file_extension": ".py",
   "mimetype": "text/x-python",
   "name": "python",
   "nbconvert_exporter": "python",
   "pygments_lexer": "ipython2",
   "version": "2.7.6"
  }
 },
 "nbformat": 4,
 "nbformat_minor": 0
}
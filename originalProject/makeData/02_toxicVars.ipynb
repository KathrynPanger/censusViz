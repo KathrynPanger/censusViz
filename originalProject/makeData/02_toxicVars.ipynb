{
 "cells": [
  {
   "cell_type": "code",
   "execution_count": 25,
   "outputs": [],
   "source": [
    "import pandas as pd\n",
    "import geopandas as gpd\n",
    "from shapely import wkt"
   ],
   "metadata": {
    "collapsed": false,
    "pycharm": {
     "name": "#%%\n"
    }
   }
  },
  {
   "cell_type": "code",
   "execution_count": 26,
   "outputs": [],
   "source": [
    "toxicDf = pd.read_csv(\"../localData/epa_tri_toxic_waste_2019.csv\")\n",
    "toxicDf = toxicDf.loc[toxicDf[\"6. CITY\"] == \"CHICAGO\"]\n",
    "toxicDf = gpd.GeoDataFrame(toxicDf, geometry=gpd.points_from_xy(toxicDf[\"13. LONGITUDE\"], toxicDf[\"12. LATITUDE\"])).set_crs(\"EPSG:4326\")"
   ],
   "metadata": {
    "collapsed": false,
    "pycharm": {
     "name": "#%%\n"
    }
   }
  },
  {
   "cell_type": "code",
   "execution_count": 27,
   "outputs": [],
   "source": [
    "chicagoDf = pd.read_csv(\"../localdata/censusVars.csv\")\n",
    "chicagoDf['geometry'] = chicagoDf['geometry'].apply(wkt.loads)\n",
    "chicagoDf = gpd.GeoDataFrame(chicagoDf, crs='epsg:4326')"
   ],
   "metadata": {
    "collapsed": false,
    "pycharm": {
     "name": "#%%\n"
    }
   }
  },
  {
   "cell_type": "code",
   "execution_count": 28,
   "outputs": [],
   "source": [
    "#cast to projected CRS for distance nearest operations\n",
    "chicagoNearest = chicagoDf.to_crs(\"EPSG:2953\")\n",
    "toxicDfNearest = toxicDf.to_crs(\"EPSG:2953\")\n",
    "#Distance units will be in meters\n",
    "chicagoNearest = chicagoNearest.sjoin_nearest(toxicDfNearest, how = \"left\", distance_col = \"distance_nearest_facility\")\n",
    "#sort by emissions so we can look at emissions from nearest plant\n",
    "chicagoNearest = chicagoNearest.sort_values(by = [\"62. ON-SITE RELEASE TOTAL\"], ascending = False)\n",
    "#drop duplicates for every tract which is equidistant from more than one facility (default creates more rows)\n",
    "chicagoNearest = chicagoNearest.drop_duplicates(subset = \"GEOID\", keep = \"first\")\n",
    "chicagoNearest = chicagoNearest[[\"GEOID\", \"distance_nearest_facility\"]]"
   ],
   "metadata": {
    "collapsed": false,
    "pycharm": {
     "name": "#%%\n"
    }
   }
  },
  {
   "cell_type": "code",
   "execution_count": 29,
   "outputs": [],
   "source": [
    "polygons = chicagoDf\n",
    "points = toxicDf"
   ],
   "metadata": {
    "collapsed": false,
    "pycharm": {
     "name": "#%%\n"
    }
   }
  },
  {
   "cell_type": "code",
   "execution_count": 30,
   "outputs": [
    {
     "name": "stderr",
     "output_type": "stream",
     "text": [
      "/Users/kathrynpanger/Documents/censusMaps/venv/lib/python3.8/site-packages/IPython/core/interactiveshell.py:3400: FutureWarning: The `op` parameter is deprecated and will be removed in a future release. Please use the `predicate` parameter instead.\n",
      "  if await self.run_code(code, result, async_=asy):\n"
     ]
    }
   ],
   "source": [
    "# Spatial Joins\n",
    "facilities_in_tract = gpd.sjoin(toxicDf, chicagoDf, how=\"left\", op='intersects')\n",
    "\n",
    "# Add a field with 1 as a constant value\n",
    "facilities_in_tract['number_of_facilities_in_tract']=1\n",
    "\n",
    "# Group according to the column by which you want to aggregate data\n",
    "facilities_in_tract = facilities_in_tract.groupby('GEOID').agg({'number_of_facilities_in_tract':'sum'}).reset_index()\n",
    "\n"
   ],
   "metadata": {
    "collapsed": false,
    "pycharm": {
     "name": "#%%\n"
    }
   }
  },
  {
   "cell_type": "code",
   "execution_count": 31,
   "outputs": [
    {
     "data": {
      "text/plain": "     Unnamed: 0        GEOID  \\\n0             0  17031171100   \n1             1  17031191301   \n2             2  17031191302   \n3             3  17031190701   \n4             4  17031252102   \n..          ...          ...   \n659         659  17031838800   \n660         660  17031460700   \n661         661  17031460200   \n662         662  17031461000   \n663         663  17031833900   \n\n                                              geometry  B01003_001E  \\\n0    POLYGON ((-87.78635 41.94548, -87.78635 41.945...       4013.0   \n1    POLYGON ((-87.78544 41.92368, -87.78520 41.923...       5525.0   \n2    POLYGON ((-87.77572 41.92383, -87.77547 41.923...       5046.0   \n3    POLYGON ((-87.76625 41.93128, -87.76600 41.931...       2735.0   \n4    POLYGON ((-87.76486 41.88025, -87.76453 41.880...       6864.0   \n..                                                 ...          ...   \n659  POLYGON ((-87.60195 41.68414, -87.60194 41.684...       3300.0   \n660  POLYGON ((-87.55559 41.73733, -87.55548 41.737...       2651.0   \n661  POLYGON ((-87.55276 41.74464, -87.55263 41.744...       2468.0   \n662  POLYGON ((-87.55560 41.72997, -87.55545 41.730...       1288.0   \n663  POLYGON ((-87.56008 41.73331, -87.55975 41.733...       2650.0   \n\n     B02001_002E  B02001_003E  B02008_001E  B02009_001E  B19013_001E  \\\n0         3110.0         34.0       3117.0         34.0      69330.0   \n1         2640.0        224.0       2989.0        476.0      50046.0   \n2         2823.0        176.0       2848.0        176.0      45962.0   \n3         1700.0         29.0       1772.0         77.0      42270.0   \n4          162.0       6264.0        162.0       6264.0      38500.0   \n..           ...          ...          ...          ...          ...   \n659       1389.0       1759.0       1398.0       1768.0      27160.0   \n660        818.0       1508.0        820.0       1604.0      24517.0   \n661       1255.0        979.0       1312.0       1000.0      28363.0   \n662        304.0        803.0        304.0        816.0      15956.0   \n663       1029.0       1463.0       1042.0       1469.0      32237.0   \n\n     B25105_001E  ...  black_some_population  black_alone_population  \\\n0         1447.0  ...                   34.0                    34.0   \n1         1283.0  ...                  476.0                   224.0   \n2         1186.0  ...                  176.0                   176.0   \n3         1117.0  ...                   77.0                    29.0   \n4         1021.0  ...                 6264.0                  6264.0   \n..           ...  ...                    ...                     ...   \n659        597.0  ...                 1768.0                  1759.0   \n660        671.0  ...                 1604.0                  1508.0   \n661        761.0  ...                 1000.0                   979.0   \n662        475.0  ...                  816.0                   803.0   \n663        800.0  ...                 1469.0                  1463.0   \n\n     median_household_income_past_12_months  \\\n0                                   69330.0   \n1                                   50046.0   \n2                                   45962.0   \n3                                   42270.0   \n4                                   38500.0   \n..                                      ...   \n659                                 27160.0   \n660                                 24517.0   \n661                                 28363.0   \n662                                 15956.0   \n663                                 32237.0   \n\n     median_housing_cost_past_12_months  total_population  \\\n0                                1447.0            4013.0   \n1                                1283.0            5525.0   \n2                                1186.0            5046.0   \n3                                1117.0            2735.0   \n4                                1021.0            6864.0   \n..                                  ...               ...   \n659                               597.0            3300.0   \n660                               671.0            2651.0   \n661                               761.0            2468.0   \n662                               475.0            1288.0   \n663                               800.0            2650.0   \n\n     proportion_some_black  proportion_alone_black  proportion_some_white  \\\n0                 0.008472                0.008472               0.776726   \n1                 0.086154                0.040543               0.540995   \n2                 0.034879                0.034879               0.564407   \n3                 0.028154                0.010603               0.647898   \n4                 0.912587                0.912587               0.023601   \n..                     ...                     ...                    ...   \n659               0.535758                0.533030               0.423636   \n660               0.605055                0.568842               0.309317   \n661               0.405186                0.396677               0.531605   \n662               0.633540                0.623447               0.236025   \n663               0.554340                0.552075               0.393208   \n\n     proportion_alone_white  number_of_facilities_in_tract  \n0                  0.774981                            0.0  \n1                  0.477828                            0.0  \n2                  0.559453                            2.0  \n3                  0.621572                            0.0  \n4                  0.023601                            0.0  \n..                      ...                            ...  \n659                0.420909                           36.0  \n660                0.308563                            0.0  \n661                0.508509                            0.0  \n662                0.236025                            0.0  \n663                0.388302                            0.0  \n\n[664 rows x 25 columns]",
      "text/html": "<div>\n<style scoped>\n    .dataframe tbody tr th:only-of-type {\n        vertical-align: middle;\n    }\n\n    .dataframe tbody tr th {\n        vertical-align: top;\n    }\n\n    .dataframe thead th {\n        text-align: right;\n    }\n</style>\n<table border=\"1\" class=\"dataframe\">\n  <thead>\n    <tr style=\"text-align: right;\">\n      <th></th>\n      <th>Unnamed: 0</th>\n      <th>GEOID</th>\n      <th>geometry</th>\n      <th>B01003_001E</th>\n      <th>B02001_002E</th>\n      <th>B02001_003E</th>\n      <th>B02008_001E</th>\n      <th>B02009_001E</th>\n      <th>B19013_001E</th>\n      <th>B25105_001E</th>\n      <th>...</th>\n      <th>black_some_population</th>\n      <th>black_alone_population</th>\n      <th>median_household_income_past_12_months</th>\n      <th>median_housing_cost_past_12_months</th>\n      <th>total_population</th>\n      <th>proportion_some_black</th>\n      <th>proportion_alone_black</th>\n      <th>proportion_some_white</th>\n      <th>proportion_alone_white</th>\n      <th>number_of_facilities_in_tract</th>\n    </tr>\n  </thead>\n  <tbody>\n    <tr>\n      <th>0</th>\n      <td>0</td>\n      <td>17031171100</td>\n      <td>POLYGON ((-87.78635 41.94548, -87.78635 41.945...</td>\n      <td>4013.0</td>\n      <td>3110.0</td>\n      <td>34.0</td>\n      <td>3117.0</td>\n      <td>34.0</td>\n      <td>69330.0</td>\n      <td>1447.0</td>\n      <td>...</td>\n      <td>34.0</td>\n      <td>34.0</td>\n      <td>69330.0</td>\n      <td>1447.0</td>\n      <td>4013.0</td>\n      <td>0.008472</td>\n      <td>0.008472</td>\n      <td>0.776726</td>\n      <td>0.774981</td>\n      <td>0.0</td>\n    </tr>\n    <tr>\n      <th>1</th>\n      <td>1</td>\n      <td>17031191301</td>\n      <td>POLYGON ((-87.78544 41.92368, -87.78520 41.923...</td>\n      <td>5525.0</td>\n      <td>2640.0</td>\n      <td>224.0</td>\n      <td>2989.0</td>\n      <td>476.0</td>\n      <td>50046.0</td>\n      <td>1283.0</td>\n      <td>...</td>\n      <td>476.0</td>\n      <td>224.0</td>\n      <td>50046.0</td>\n      <td>1283.0</td>\n      <td>5525.0</td>\n      <td>0.086154</td>\n      <td>0.040543</td>\n      <td>0.540995</td>\n      <td>0.477828</td>\n      <td>0.0</td>\n    </tr>\n    <tr>\n      <th>2</th>\n      <td>2</td>\n      <td>17031191302</td>\n      <td>POLYGON ((-87.77572 41.92383, -87.77547 41.923...</td>\n      <td>5046.0</td>\n      <td>2823.0</td>\n      <td>176.0</td>\n      <td>2848.0</td>\n      <td>176.0</td>\n      <td>45962.0</td>\n      <td>1186.0</td>\n      <td>...</td>\n      <td>176.0</td>\n      <td>176.0</td>\n      <td>45962.0</td>\n      <td>1186.0</td>\n      <td>5046.0</td>\n      <td>0.034879</td>\n      <td>0.034879</td>\n      <td>0.564407</td>\n      <td>0.559453</td>\n      <td>2.0</td>\n    </tr>\n    <tr>\n      <th>3</th>\n      <td>3</td>\n      <td>17031190701</td>\n      <td>POLYGON ((-87.76625 41.93128, -87.76600 41.931...</td>\n      <td>2735.0</td>\n      <td>1700.0</td>\n      <td>29.0</td>\n      <td>1772.0</td>\n      <td>77.0</td>\n      <td>42270.0</td>\n      <td>1117.0</td>\n      <td>...</td>\n      <td>77.0</td>\n      <td>29.0</td>\n      <td>42270.0</td>\n      <td>1117.0</td>\n      <td>2735.0</td>\n      <td>0.028154</td>\n      <td>0.010603</td>\n      <td>0.647898</td>\n      <td>0.621572</td>\n      <td>0.0</td>\n    </tr>\n    <tr>\n      <th>4</th>\n      <td>4</td>\n      <td>17031252102</td>\n      <td>POLYGON ((-87.76486 41.88025, -87.76453 41.880...</td>\n      <td>6864.0</td>\n      <td>162.0</td>\n      <td>6264.0</td>\n      <td>162.0</td>\n      <td>6264.0</td>\n      <td>38500.0</td>\n      <td>1021.0</td>\n      <td>...</td>\n      <td>6264.0</td>\n      <td>6264.0</td>\n      <td>38500.0</td>\n      <td>1021.0</td>\n      <td>6864.0</td>\n      <td>0.912587</td>\n      <td>0.912587</td>\n      <td>0.023601</td>\n      <td>0.023601</td>\n      <td>0.0</td>\n    </tr>\n    <tr>\n      <th>...</th>\n      <td>...</td>\n      <td>...</td>\n      <td>...</td>\n      <td>...</td>\n      <td>...</td>\n      <td>...</td>\n      <td>...</td>\n      <td>...</td>\n      <td>...</td>\n      <td>...</td>\n      <td>...</td>\n      <td>...</td>\n      <td>...</td>\n      <td>...</td>\n      <td>...</td>\n      <td>...</td>\n      <td>...</td>\n      <td>...</td>\n      <td>...</td>\n      <td>...</td>\n      <td>...</td>\n    </tr>\n    <tr>\n      <th>659</th>\n      <td>659</td>\n      <td>17031838800</td>\n      <td>POLYGON ((-87.60195 41.68414, -87.60194 41.684...</td>\n      <td>3300.0</td>\n      <td>1389.0</td>\n      <td>1759.0</td>\n      <td>1398.0</td>\n      <td>1768.0</td>\n      <td>27160.0</td>\n      <td>597.0</td>\n      <td>...</td>\n      <td>1768.0</td>\n      <td>1759.0</td>\n      <td>27160.0</td>\n      <td>597.0</td>\n      <td>3300.0</td>\n      <td>0.535758</td>\n      <td>0.533030</td>\n      <td>0.423636</td>\n      <td>0.420909</td>\n      <td>36.0</td>\n    </tr>\n    <tr>\n      <th>660</th>\n      <td>660</td>\n      <td>17031460700</td>\n      <td>POLYGON ((-87.55559 41.73733, -87.55548 41.737...</td>\n      <td>2651.0</td>\n      <td>818.0</td>\n      <td>1508.0</td>\n      <td>820.0</td>\n      <td>1604.0</td>\n      <td>24517.0</td>\n      <td>671.0</td>\n      <td>...</td>\n      <td>1604.0</td>\n      <td>1508.0</td>\n      <td>24517.0</td>\n      <td>671.0</td>\n      <td>2651.0</td>\n      <td>0.605055</td>\n      <td>0.568842</td>\n      <td>0.309317</td>\n      <td>0.308563</td>\n      <td>0.0</td>\n    </tr>\n    <tr>\n      <th>661</th>\n      <td>661</td>\n      <td>17031460200</td>\n      <td>POLYGON ((-87.55276 41.74464, -87.55263 41.744...</td>\n      <td>2468.0</td>\n      <td>1255.0</td>\n      <td>979.0</td>\n      <td>1312.0</td>\n      <td>1000.0</td>\n      <td>28363.0</td>\n      <td>761.0</td>\n      <td>...</td>\n      <td>1000.0</td>\n      <td>979.0</td>\n      <td>28363.0</td>\n      <td>761.0</td>\n      <td>2468.0</td>\n      <td>0.405186</td>\n      <td>0.396677</td>\n      <td>0.531605</td>\n      <td>0.508509</td>\n      <td>0.0</td>\n    </tr>\n    <tr>\n      <th>662</th>\n      <td>662</td>\n      <td>17031461000</td>\n      <td>POLYGON ((-87.55560 41.72997, -87.55545 41.730...</td>\n      <td>1288.0</td>\n      <td>304.0</td>\n      <td>803.0</td>\n      <td>304.0</td>\n      <td>816.0</td>\n      <td>15956.0</td>\n      <td>475.0</td>\n      <td>...</td>\n      <td>816.0</td>\n      <td>803.0</td>\n      <td>15956.0</td>\n      <td>475.0</td>\n      <td>1288.0</td>\n      <td>0.633540</td>\n      <td>0.623447</td>\n      <td>0.236025</td>\n      <td>0.236025</td>\n      <td>0.0</td>\n    </tr>\n    <tr>\n      <th>663</th>\n      <td>663</td>\n      <td>17031833900</td>\n      <td>POLYGON ((-87.56008 41.73331, -87.55975 41.733...</td>\n      <td>2650.0</td>\n      <td>1029.0</td>\n      <td>1463.0</td>\n      <td>1042.0</td>\n      <td>1469.0</td>\n      <td>32237.0</td>\n      <td>800.0</td>\n      <td>...</td>\n      <td>1469.0</td>\n      <td>1463.0</td>\n      <td>32237.0</td>\n      <td>800.0</td>\n      <td>2650.0</td>\n      <td>0.554340</td>\n      <td>0.552075</td>\n      <td>0.393208</td>\n      <td>0.388302</td>\n      <td>0.0</td>\n    </tr>\n  </tbody>\n</table>\n<p>664 rows × 25 columns</p>\n</div>"
     },
     "execution_count": 31,
     "metadata": {},
     "output_type": "execute_result"
    }
   ],
   "source": [
    "chicagoFacilities = chicagoDf.merge(facilities_in_tract, on=\"GEOID\", how=\"left\").fillna(value=0)\n",
    "chicagoFacilities"
   ],
   "metadata": {
    "collapsed": false,
    "pycharm": {
     "name": "#%%\n"
    }
   }
  },
  {
   "cell_type": "code",
   "execution_count": 32,
   "outputs": [
    {
     "data": {
      "text/plain": "     Unnamed: 0        GEOID  \\\n0             0  17031171100   \n1             1  17031191301   \n2             2  17031191302   \n3             3  17031190701   \n4             4  17031252102   \n..          ...          ...   \n659         659  17031838800   \n660         660  17031460700   \n661         661  17031460200   \n662         662  17031461000   \n663         663  17031833900   \n\n                                              geometry  B01003_001E  \\\n0    POLYGON ((-87.78635 41.94548, -87.78635 41.945...       4013.0   \n1    POLYGON ((-87.78544 41.92368, -87.78520 41.923...       5525.0   \n2    POLYGON ((-87.77572 41.92383, -87.77547 41.923...       5046.0   \n3    POLYGON ((-87.76625 41.93128, -87.76600 41.931...       2735.0   \n4    POLYGON ((-87.76486 41.88025, -87.76453 41.880...       6864.0   \n..                                                 ...          ...   \n659  POLYGON ((-87.60195 41.68414, -87.60194 41.684...       3300.0   \n660  POLYGON ((-87.55559 41.73733, -87.55548 41.737...       2651.0   \n661  POLYGON ((-87.55276 41.74464, -87.55263 41.744...       2468.0   \n662  POLYGON ((-87.55560 41.72997, -87.55545 41.730...       1288.0   \n663  POLYGON ((-87.56008 41.73331, -87.55975 41.733...       2650.0   \n\n     B02001_002E  B02001_003E  B02008_001E  B02009_001E  B19013_001E  \\\n0         3110.0         34.0       3117.0         34.0      69330.0   \n1         2640.0        224.0       2989.0        476.0      50046.0   \n2         2823.0        176.0       2848.0        176.0      45962.0   \n3         1700.0         29.0       1772.0         77.0      42270.0   \n4          162.0       6264.0        162.0       6264.0      38500.0   \n..           ...          ...          ...          ...          ...   \n659       1389.0       1759.0       1398.0       1768.0      27160.0   \n660        818.0       1508.0        820.0       1604.0      24517.0   \n661       1255.0        979.0       1312.0       1000.0      28363.0   \n662        304.0        803.0        304.0        816.0      15956.0   \n663       1029.0       1463.0       1042.0       1469.0      32237.0   \n\n     B25105_001E  ...  black_alone_population  \\\n0         1447.0  ...                    34.0   \n1         1283.0  ...                   224.0   \n2         1186.0  ...                   176.0   \n3         1117.0  ...                    29.0   \n4         1021.0  ...                  6264.0   \n..           ...  ...                     ...   \n659        597.0  ...                  1759.0   \n660        671.0  ...                  1508.0   \n661        761.0  ...                   979.0   \n662        475.0  ...                   803.0   \n663        800.0  ...                  1463.0   \n\n     median_household_income_past_12_months  \\\n0                                   69330.0   \n1                                   50046.0   \n2                                   45962.0   \n3                                   42270.0   \n4                                   38500.0   \n..                                      ...   \n659                                 27160.0   \n660                                 24517.0   \n661                                 28363.0   \n662                                 15956.0   \n663                                 32237.0   \n\n     median_housing_cost_past_12_months  total_population  \\\n0                                1447.0            4013.0   \n1                                1283.0            5525.0   \n2                                1186.0            5046.0   \n3                                1117.0            2735.0   \n4                                1021.0            6864.0   \n..                                  ...               ...   \n659                               597.0            3300.0   \n660                               671.0            2651.0   \n661                               761.0            2468.0   \n662                               475.0            1288.0   \n663                               800.0            2650.0   \n\n     proportion_some_black  proportion_alone_black  proportion_some_white  \\\n0                 0.008472                0.008472               0.776726   \n1                 0.086154                0.040543               0.540995   \n2                 0.034879                0.034879               0.564407   \n3                 0.028154                0.010603               0.647898   \n4                 0.912587                0.912587               0.023601   \n..                     ...                     ...                    ...   \n659               0.535758                0.533030               0.423636   \n660               0.605055                0.568842               0.309317   \n661               0.405186                0.396677               0.531605   \n662               0.633540                0.623447               0.236025   \n663               0.554340                0.552075               0.393208   \n\n     proportion_alone_white  number_of_facilities_in_tract  \\\n0                  0.774981                            0.0   \n1                  0.477828                            0.0   \n2                  0.559453                            2.0   \n3                  0.621572                            0.0   \n4                  0.023601                            0.0   \n..                      ...                            ...   \n659                0.420909                           36.0   \n660                0.308563                            0.0   \n661                0.508509                            0.0   \n662                0.236025                            0.0   \n663                0.388302                            0.0   \n\n     distance_nearest_facility  \n0                  2477.360557  \n1                   597.459824  \n2                     0.000000  \n3                  1210.359102  \n4                  1173.119840  \n..                         ...  \n659                   0.000000  \n660                3032.984216  \n661                3487.781681  \n662                2410.546519  \n663                2635.930414  \n\n[664 rows x 26 columns]",
      "text/html": "<div>\n<style scoped>\n    .dataframe tbody tr th:only-of-type {\n        vertical-align: middle;\n    }\n\n    .dataframe tbody tr th {\n        vertical-align: top;\n    }\n\n    .dataframe thead th {\n        text-align: right;\n    }\n</style>\n<table border=\"1\" class=\"dataframe\">\n  <thead>\n    <tr style=\"text-align: right;\">\n      <th></th>\n      <th>Unnamed: 0</th>\n      <th>GEOID</th>\n      <th>geometry</th>\n      <th>B01003_001E</th>\n      <th>B02001_002E</th>\n      <th>B02001_003E</th>\n      <th>B02008_001E</th>\n      <th>B02009_001E</th>\n      <th>B19013_001E</th>\n      <th>B25105_001E</th>\n      <th>...</th>\n      <th>black_alone_population</th>\n      <th>median_household_income_past_12_months</th>\n      <th>median_housing_cost_past_12_months</th>\n      <th>total_population</th>\n      <th>proportion_some_black</th>\n      <th>proportion_alone_black</th>\n      <th>proportion_some_white</th>\n      <th>proportion_alone_white</th>\n      <th>number_of_facilities_in_tract</th>\n      <th>distance_nearest_facility</th>\n    </tr>\n  </thead>\n  <tbody>\n    <tr>\n      <th>0</th>\n      <td>0</td>\n      <td>17031171100</td>\n      <td>POLYGON ((-87.78635 41.94548, -87.78635 41.945...</td>\n      <td>4013.0</td>\n      <td>3110.0</td>\n      <td>34.0</td>\n      <td>3117.0</td>\n      <td>34.0</td>\n      <td>69330.0</td>\n      <td>1447.0</td>\n      <td>...</td>\n      <td>34.0</td>\n      <td>69330.0</td>\n      <td>1447.0</td>\n      <td>4013.0</td>\n      <td>0.008472</td>\n      <td>0.008472</td>\n      <td>0.776726</td>\n      <td>0.774981</td>\n      <td>0.0</td>\n      <td>2477.360557</td>\n    </tr>\n    <tr>\n      <th>1</th>\n      <td>1</td>\n      <td>17031191301</td>\n      <td>POLYGON ((-87.78544 41.92368, -87.78520 41.923...</td>\n      <td>5525.0</td>\n      <td>2640.0</td>\n      <td>224.0</td>\n      <td>2989.0</td>\n      <td>476.0</td>\n      <td>50046.0</td>\n      <td>1283.0</td>\n      <td>...</td>\n      <td>224.0</td>\n      <td>50046.0</td>\n      <td>1283.0</td>\n      <td>5525.0</td>\n      <td>0.086154</td>\n      <td>0.040543</td>\n      <td>0.540995</td>\n      <td>0.477828</td>\n      <td>0.0</td>\n      <td>597.459824</td>\n    </tr>\n    <tr>\n      <th>2</th>\n      <td>2</td>\n      <td>17031191302</td>\n      <td>POLYGON ((-87.77572 41.92383, -87.77547 41.923...</td>\n      <td>5046.0</td>\n      <td>2823.0</td>\n      <td>176.0</td>\n      <td>2848.0</td>\n      <td>176.0</td>\n      <td>45962.0</td>\n      <td>1186.0</td>\n      <td>...</td>\n      <td>176.0</td>\n      <td>45962.0</td>\n      <td>1186.0</td>\n      <td>5046.0</td>\n      <td>0.034879</td>\n      <td>0.034879</td>\n      <td>0.564407</td>\n      <td>0.559453</td>\n      <td>2.0</td>\n      <td>0.000000</td>\n    </tr>\n    <tr>\n      <th>3</th>\n      <td>3</td>\n      <td>17031190701</td>\n      <td>POLYGON ((-87.76625 41.93128, -87.76600 41.931...</td>\n      <td>2735.0</td>\n      <td>1700.0</td>\n      <td>29.0</td>\n      <td>1772.0</td>\n      <td>77.0</td>\n      <td>42270.0</td>\n      <td>1117.0</td>\n      <td>...</td>\n      <td>29.0</td>\n      <td>42270.0</td>\n      <td>1117.0</td>\n      <td>2735.0</td>\n      <td>0.028154</td>\n      <td>0.010603</td>\n      <td>0.647898</td>\n      <td>0.621572</td>\n      <td>0.0</td>\n      <td>1210.359102</td>\n    </tr>\n    <tr>\n      <th>4</th>\n      <td>4</td>\n      <td>17031252102</td>\n      <td>POLYGON ((-87.76486 41.88025, -87.76453 41.880...</td>\n      <td>6864.0</td>\n      <td>162.0</td>\n      <td>6264.0</td>\n      <td>162.0</td>\n      <td>6264.0</td>\n      <td>38500.0</td>\n      <td>1021.0</td>\n      <td>...</td>\n      <td>6264.0</td>\n      <td>38500.0</td>\n      <td>1021.0</td>\n      <td>6864.0</td>\n      <td>0.912587</td>\n      <td>0.912587</td>\n      <td>0.023601</td>\n      <td>0.023601</td>\n      <td>0.0</td>\n      <td>1173.119840</td>\n    </tr>\n    <tr>\n      <th>...</th>\n      <td>...</td>\n      <td>...</td>\n      <td>...</td>\n      <td>...</td>\n      <td>...</td>\n      <td>...</td>\n      <td>...</td>\n      <td>...</td>\n      <td>...</td>\n      <td>...</td>\n      <td>...</td>\n      <td>...</td>\n      <td>...</td>\n      <td>...</td>\n      <td>...</td>\n      <td>...</td>\n      <td>...</td>\n      <td>...</td>\n      <td>...</td>\n      <td>...</td>\n      <td>...</td>\n    </tr>\n    <tr>\n      <th>659</th>\n      <td>659</td>\n      <td>17031838800</td>\n      <td>POLYGON ((-87.60195 41.68414, -87.60194 41.684...</td>\n      <td>3300.0</td>\n      <td>1389.0</td>\n      <td>1759.0</td>\n      <td>1398.0</td>\n      <td>1768.0</td>\n      <td>27160.0</td>\n      <td>597.0</td>\n      <td>...</td>\n      <td>1759.0</td>\n      <td>27160.0</td>\n      <td>597.0</td>\n      <td>3300.0</td>\n      <td>0.535758</td>\n      <td>0.533030</td>\n      <td>0.423636</td>\n      <td>0.420909</td>\n      <td>36.0</td>\n      <td>0.000000</td>\n    </tr>\n    <tr>\n      <th>660</th>\n      <td>660</td>\n      <td>17031460700</td>\n      <td>POLYGON ((-87.55559 41.73733, -87.55548 41.737...</td>\n      <td>2651.0</td>\n      <td>818.0</td>\n      <td>1508.0</td>\n      <td>820.0</td>\n      <td>1604.0</td>\n      <td>24517.0</td>\n      <td>671.0</td>\n      <td>...</td>\n      <td>1508.0</td>\n      <td>24517.0</td>\n      <td>671.0</td>\n      <td>2651.0</td>\n      <td>0.605055</td>\n      <td>0.568842</td>\n      <td>0.309317</td>\n      <td>0.308563</td>\n      <td>0.0</td>\n      <td>3032.984216</td>\n    </tr>\n    <tr>\n      <th>661</th>\n      <td>661</td>\n      <td>17031460200</td>\n      <td>POLYGON ((-87.55276 41.74464, -87.55263 41.744...</td>\n      <td>2468.0</td>\n      <td>1255.0</td>\n      <td>979.0</td>\n      <td>1312.0</td>\n      <td>1000.0</td>\n      <td>28363.0</td>\n      <td>761.0</td>\n      <td>...</td>\n      <td>979.0</td>\n      <td>28363.0</td>\n      <td>761.0</td>\n      <td>2468.0</td>\n      <td>0.405186</td>\n      <td>0.396677</td>\n      <td>0.531605</td>\n      <td>0.508509</td>\n      <td>0.0</td>\n      <td>3487.781681</td>\n    </tr>\n    <tr>\n      <th>662</th>\n      <td>662</td>\n      <td>17031461000</td>\n      <td>POLYGON ((-87.55560 41.72997, -87.55545 41.730...</td>\n      <td>1288.0</td>\n      <td>304.0</td>\n      <td>803.0</td>\n      <td>304.0</td>\n      <td>816.0</td>\n      <td>15956.0</td>\n      <td>475.0</td>\n      <td>...</td>\n      <td>803.0</td>\n      <td>15956.0</td>\n      <td>475.0</td>\n      <td>1288.0</td>\n      <td>0.633540</td>\n      <td>0.623447</td>\n      <td>0.236025</td>\n      <td>0.236025</td>\n      <td>0.0</td>\n      <td>2410.546519</td>\n    </tr>\n    <tr>\n      <th>663</th>\n      <td>663</td>\n      <td>17031833900</td>\n      <td>POLYGON ((-87.56008 41.73331, -87.55975 41.733...</td>\n      <td>2650.0</td>\n      <td>1029.0</td>\n      <td>1463.0</td>\n      <td>1042.0</td>\n      <td>1469.0</td>\n      <td>32237.0</td>\n      <td>800.0</td>\n      <td>...</td>\n      <td>1463.0</td>\n      <td>32237.0</td>\n      <td>800.0</td>\n      <td>2650.0</td>\n      <td>0.554340</td>\n      <td>0.552075</td>\n      <td>0.393208</td>\n      <td>0.388302</td>\n      <td>0.0</td>\n      <td>2635.930414</td>\n    </tr>\n  </tbody>\n</table>\n<p>664 rows × 26 columns</p>\n</div>"
     },
     "execution_count": 32,
     "metadata": {},
     "output_type": "execute_result"
    }
   ],
   "source": [
    "chicagoDf = chicagoFacilities.merge(chicagoNearest, on=\"GEOID\", how=\"left\")\n",
    "chicagoDf"
   ],
   "metadata": {
    "collapsed": false,
    "pycharm": {
     "name": "#%%\n"
    }
   }
  },
  {
   "cell_type": "code",
   "execution_count": 33,
   "outputs": [],
   "source": [
    "chicagoDf.to_csv(\"../localData/toxicAndDistanceAndCensusVars.csv\")"
   ],
   "metadata": {
    "collapsed": false,
    "pycharm": {
     "name": "#%%\n"
    }
   }
  },
  {
   "cell_type": "code",
   "execution_count": 34,
   "outputs": [],
   "source": [
    "distanceVarsOnly = chicagoDf[[\"GEOID\", \"number_of_facilities_in_tract\", \"distance_nearest_facility\"]]"
   ],
   "metadata": {
    "collapsed": false,
    "pycharm": {
     "name": "#%%\n"
    }
   }
  },
  {
   "cell_type": "code",
   "execution_count": 35,
   "outputs": [],
   "source": [
    "distanceVarsOnly.to_csv(\"../localData/distanceVarsOnly.csv\")"
   ],
   "metadata": {
    "collapsed": false,
    "pycharm": {
     "name": "#%%\n"
    }
   }
  }
 ],
 "metadata": {
  "kernelspec": {
   "display_name": "Python 3",
   "language": "python",
   "name": "python3"
  },
  "language_info": {
   "codemirror_mode": {
    "name": "ipython",
    "version": 2
   },
   "file_extension": ".py",
   "mimetype": "text/x-python",
   "name": "python",
   "nbconvert_exporter": "python",
   "pygments_lexer": "ipython2",
   "version": "2.7.6"
  }
 },
 "nbformat": 4,
 "nbformat_minor": 0
}
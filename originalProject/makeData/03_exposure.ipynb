{
 "cells": [
  {
   "cell_type": "code",
   "execution_count": 61,
   "outputs": [],
   "source": [
    "import pandas as pd\n",
    "import geopandas as gpd\n",
    "from shapely import wkt\n",
    "import numpy as np"
   ],
   "metadata": {
    "collapsed": false,
    "pycharm": {
     "name": "#%%\n"
    }
   }
  },
  {
   "cell_type": "code",
   "execution_count": 79,
   "outputs": [],
   "source": [
    "# Read toxic waste data\n",
    "toxicDf = pd.read_csv(\"../localData/epa_tri_toxic_waste_2019.csv\")\n",
    "toxicDf = toxicDf.loc[toxicDf[\"6. CITY\"] == \"CHICAGO\"]\n",
    "toxicDf = gpd.GeoDataFrame(toxicDf, geometry=gpd.points_from_xy(toxicDf[\"13. LONGITUDE\"], toxicDf[\"12. LATITUDE\"])).set_crs(\"EPSG:4326\")\n",
    "#greab necessary columns, convert to cartesian geometry\n",
    "toxicDf = toxicDf.to_crs(\"EPSG:2953\")\n",
    "#toxicDf = toxicDf.to_crs(\"EPSG:2953\")"
   ],
   "metadata": {
    "collapsed": false,
    "pycharm": {
     "name": "#%%\n"
    }
   }
  },
  {
   "cell_type": "code",
   "execution_count": 80,
   "outputs": [],
   "source": [
    "# Read census data\n",
    "chicagoDf = pd.read_csv(\"../localdata/censusVars.csv\")\n",
    "chicagoDf['geometry'] = chicagoDf['geometry'].apply(wkt.loads)\n",
    "chicagoDf = gpd.GeoDataFrame(chicagoDf, crs='epsg:4326')\n",
    "#grab necessary columns, convert to cartesian geometry\n",
    "chicagoDf = chicagoDf[[\"GEOID\", \"geometry\"]].to_crs(\"EPSG:2953\")"
   ],
   "metadata": {
    "collapsed": false,
    "pycharm": {
     "name": "#%%\n"
    }
   }
  },
  {
   "cell_type": "code",
   "execution_count": 73,
   "outputs": [],
   "source": [
    "# Get the sum of the distances from all facilities to facilitate creation of \"exposure\" variables later\n",
    "# This will capture the fact that some tracts are near more than one facility.\n",
    "def get_sum_of_distances(polygon_data: pd.DataFrame, points_data: pd.DataFrame):\n",
    "    points = points_data[\"geometry\"].tolist()\n",
    "    polygon_data[\"sum_of_distances\"] = 0\n",
    "    for point in points:\n",
    "        distances_to_one_point = polygon_data[\"geometry\"].distance(point)\n",
    "        polygon_data[\"sum_of_distances\"] += distances_to_one_point\n",
    "    return polygon_data"
   ],
   "metadata": {
    "collapsed": false,
    "pycharm": {
     "name": "#%%\n"
    }
   }
  },
  {
   "cell_type": "code",
   "execution_count": 88,
   "outputs": [],
   "source": [
    "def get_exposure_vars(polygon_data: pd.DataFrame, points_data: pd.DataFrame):\n",
    "    points = points_data[\"geometry\"].tolist()\n",
    "    outputs = points_data[\"62. ON-SITE RELEASE TOTAL\"].tolist()\n",
    "    polygon_data[\"total_exposure\"] = 0\n",
    "    polygon_data[\"sum_of_distances\"] = 0\n",
    "    for i in range(len(points_data)):\n",
    "        distances_to_one_point = polygon_data[\"geometry\"].distance(points[i])\n",
    "        exposure_to_one_point = distances_to_one_point.apply(lambda x: ((1/x**2) * outputs[i]) if x != 0 else outputs[i])\n",
    "        polygon_data[\"sum_of_distances\"] += distances_to_one_point\n",
    "        polygon_data[\"total_exposure\"] += exposure_to_one_point\n",
    "    return polygon_data"
   ],
   "metadata": {
    "collapsed": false,
    "pycharm": {
     "name": "#%%\n"
    }
   }
  },
  {
   "cell_type": "code",
   "execution_count": 89,
   "outputs": [],
   "source": [
    "#Use sum of distances to get \"total_exposure_distance\", the inverse of the sum of the distances each tract is from all facilities squared\n"
   ],
   "metadata": {
    "collapsed": false,
    "pycharm": {
     "name": "#%%\n"
    }
   }
  },
  {
   "cell_type": "code",
   "execution_count": 90,
   "outputs": [
    {
     "data": {
      "text/plain": "           GEOID                                           geometry  \\\n0    17031171100  POLYGON ((741882.753 7224318.414, 741883.395 7...   \n1    17031191301  POLYGON ((741319.835 7221913.370, 741339.883 7...   \n2    17031191302  POLYGON ((742118.869 7221717.633, 742138.890 7...   \n3    17031190701  POLYGON ((743109.889 7222326.315, 743130.069 7...   \n4    17031252102  POLYGON ((741734.560 7216713.266, 741762.146 7...   \n..           ...                                                ...   \n659  17031838800  POLYGON ((749387.431 7191713.746, 749406.178 7...   \n660  17031460700  POLYGON ((754725.743 7196532.988, 754734.058 7...   \n661  17031460200  POLYGON ((755168.063 7197272.318, 755178.665 7...   \n662  17031461000  POLYGON ((754512.124 7195727.919, 754525.259 7...   \n663  17031833900  POLYGON ((754241.542 7196190.416, 754275.239 7...   \n\n     total_exposure  sum_of_distances  \n0          0.003982      5.219851e+06  \n1          0.005711      4.730344e+06  \n2         60.376298      4.597057e+06  \n3          0.005404      4.755254e+06  \n4          0.025034      3.708454e+06  \n..              ...               ...  \n659   345965.230751      4.892123e+06  \n660        0.009427      5.067049e+06  \n661        0.008968      5.002666e+06  \n662        0.011263      5.154898e+06  \n663        0.010137      5.054017e+06  \n\n[664 rows x 4 columns]",
      "text/html": "<div>\n<style scoped>\n    .dataframe tbody tr th:only-of-type {\n        vertical-align: middle;\n    }\n\n    .dataframe tbody tr th {\n        vertical-align: top;\n    }\n\n    .dataframe thead th {\n        text-align: right;\n    }\n</style>\n<table border=\"1\" class=\"dataframe\">\n  <thead>\n    <tr style=\"text-align: right;\">\n      <th></th>\n      <th>GEOID</th>\n      <th>geometry</th>\n      <th>total_exposure</th>\n      <th>sum_of_distances</th>\n    </tr>\n  </thead>\n  <tbody>\n    <tr>\n      <th>0</th>\n      <td>17031171100</td>\n      <td>POLYGON ((741882.753 7224318.414, 741883.395 7...</td>\n      <td>0.003982</td>\n      <td>5.219851e+06</td>\n    </tr>\n    <tr>\n      <th>1</th>\n      <td>17031191301</td>\n      <td>POLYGON ((741319.835 7221913.370, 741339.883 7...</td>\n      <td>0.005711</td>\n      <td>4.730344e+06</td>\n    </tr>\n    <tr>\n      <th>2</th>\n      <td>17031191302</td>\n      <td>POLYGON ((742118.869 7221717.633, 742138.890 7...</td>\n      <td>60.376298</td>\n      <td>4.597057e+06</td>\n    </tr>\n    <tr>\n      <th>3</th>\n      <td>17031190701</td>\n      <td>POLYGON ((743109.889 7222326.315, 743130.069 7...</td>\n      <td>0.005404</td>\n      <td>4.755254e+06</td>\n    </tr>\n    <tr>\n      <th>4</th>\n      <td>17031252102</td>\n      <td>POLYGON ((741734.560 7216713.266, 741762.146 7...</td>\n      <td>0.025034</td>\n      <td>3.708454e+06</td>\n    </tr>\n    <tr>\n      <th>...</th>\n      <td>...</td>\n      <td>...</td>\n      <td>...</td>\n      <td>...</td>\n    </tr>\n    <tr>\n      <th>659</th>\n      <td>17031838800</td>\n      <td>POLYGON ((749387.431 7191713.746, 749406.178 7...</td>\n      <td>345965.230751</td>\n      <td>4.892123e+06</td>\n    </tr>\n    <tr>\n      <th>660</th>\n      <td>17031460700</td>\n      <td>POLYGON ((754725.743 7196532.988, 754734.058 7...</td>\n      <td>0.009427</td>\n      <td>5.067049e+06</td>\n    </tr>\n    <tr>\n      <th>661</th>\n      <td>17031460200</td>\n      <td>POLYGON ((755168.063 7197272.318, 755178.665 7...</td>\n      <td>0.008968</td>\n      <td>5.002666e+06</td>\n    </tr>\n    <tr>\n      <th>662</th>\n      <td>17031461000</td>\n      <td>POLYGON ((754512.124 7195727.919, 754525.259 7...</td>\n      <td>0.011263</td>\n      <td>5.154898e+06</td>\n    </tr>\n    <tr>\n      <th>663</th>\n      <td>17031833900</td>\n      <td>POLYGON ((754241.542 7196190.416, 754275.239 7...</td>\n      <td>0.010137</td>\n      <td>5.054017e+06</td>\n    </tr>\n  </tbody>\n</table>\n<p>664 rows × 4 columns</p>\n</div>"
     },
     "execution_count": 90,
     "metadata": {},
     "output_type": "execute_result"
    }
   ],
   "source": [
    "chicagoDf = get_exposure_vars(chicagoDf, toxicDf)\n",
    "chicagoDf"
   ],
   "metadata": {
    "collapsed": false,
    "pycharm": {
     "name": "#%%\n"
    }
   }
  },
  {
   "cell_type": "code",
   "execution_count": 91,
   "outputs": [],
   "source": [
    "output = chicagoDf[[\"GEOID\", \"sum_of_distances\", \"total_exposure\"]].to_csv(\"../localData/exposureVars.csv\")"
   ],
   "metadata": {
    "collapsed": false,
    "pycharm": {
     "name": "#%%\n"
    }
   }
  }
 ],
 "metadata": {
  "kernelspec": {
   "display_name": "Python 3",
   "language": "python",
   "name": "python3"
  },
  "language_info": {
   "codemirror_mode": {
    "name": "ipython",
    "version": 2
   },
   "file_extension": ".py",
   "mimetype": "text/x-python",
   "name": "python",
   "nbconvert_exporter": "python",
   "pygments_lexer": "ipython2",
   "version": "2.7.6"
  }
 },
 "nbformat": 4,
 "nbformat_minor": 0
}
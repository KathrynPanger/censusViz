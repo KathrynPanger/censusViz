{
 "cells": [
  {
   "cell_type": "code",
   "execution_count": 1,
   "outputs": [
    {
     "name": "stderr",
     "output_type": "stream",
     "text": [
      "/Users/kathrynpanger/Documents/censusMaps/venv/lib/python3.8/site-packages/geopandas/_compat.py:123: UserWarning: The Shapely GEOS version (3.11.1-CAPI-1.17.1) is incompatible with the GEOS version PyGEOS was compiled with (3.10.4-CAPI-1.16.2). Conversions between both will be slow.\n",
      "  warnings.warn(\n",
      "/Users/kathrynpanger/Documents/censusMaps/venv/lib/python3.8/site-packages/cenpy/tiger.py:6: UserWarning: Shapely 2.0 is installed, but because PyGEOS is also installed, GeoPandas will still use PyGEOS by default for now. To force to use and test Shapely 2.0, you have to set the environment variable USE_PYGEOS=0. You can do this before starting the Python process, or in your code before importing geopandas:\n",
      "\n",
      "import os\n",
      "os.environ['USE_PYGEOS'] = '0'\n",
      "import geopandas\n",
      "\n",
      "In a future release, GeoPandas will switch to using Shapely by default. If you are using PyGEOS directly (calling PyGEOS functions on geometries from GeoPandas), this will then stop working and you are encouraged to migrate from PyGEOS to Shapely 2.0 (https://shapely.readthedocs.io/en/latest/migration_pygeos.html).\n",
      "  from geopandas import GeoDataFrame\n",
      "/Users/kathrynpanger/Documents/censusMaps/venv/lib/python3.8/site-packages/fuzzywuzzy/fuzz.py:11: UserWarning: Using slow pure-python SequenceMatcher. Install python-Levenshtein to remove this warning\n",
      "  warnings.warn('Using slow pure-python SequenceMatcher. Install python-Levenshtein to remove this warning')\n"
     ]
    }
   ],
   "source": [
    "from us import states\n",
    "from config import API_KEY\n",
    "import contextily as cx\n",
    "import matplotlib.pyplot as plt\n",
    "import cenpy"
   ],
   "metadata": {
    "collapsed": false,
    "pycharm": {
     "name": "#%%\n"
    }
   }
  },
  {
   "cell_type": "code",
   "execution_count": 5,
   "outputs": [],
   "source": [
    "acs = cenpy.products.ACS()"
   ],
   "metadata": {
    "collapsed": false,
    "pycharm": {
     "name": "#%%\n"
    }
   }
  },
  {
   "cell_type": "code",
   "execution_count": 6,
   "outputs": [
    {
     "name": "stdout",
     "output_type": "stream",
     "text": [
      "Matched: Chicago, IL to Chicago city within layer Incorporated Places\n"
     ]
    },
    {
     "name": "stderr",
     "output_type": "stream",
     "text": [
      "/var/folders/lw/jy_c2z0x221fsb78kk1_h2800000gn/T/ipykernel_16347/812927580.py:3: FutureWarning: The `op` parameter is deprecated and will be removed in a future release. Please use the `predicate` parameter instead.\n",
      "  chicago, chicago_bounds = acs.from_place('Chicago, IL', variables=variables, level = \"tract\", return_bounds = True)\n"
     ]
    }
   ],
   "source": [
    "# Median montly housing cost in dollars\n",
    "variables = ['B01003_001E']\n",
    "chicago, chicago_bounds = acs.from_place('Chicago, IL', variables=variables, level = \"tract\", return_bounds = True)\n",
    "chicago_basemap, chicago_extent = cx.bounds2img(*chicago.total_bounds, zoom=11, source=cx.providers.CartoDB.Positron)\n"
   ],
   "metadata": {
    "collapsed": false,
    "pycharm": {
     "name": "#%%\n"
    }
   }
  },
  {
   "cell_type": "code",
   "execution_count": null,
   "outputs": [],
   "source": [
    "f, ax = plt.subplots(1,1,figsize=(20,20))\n",
    "chicago.plot(edgecolor='slategrey', color='none', ax=ax)\n",
    "chicago_bounds.plot(edgecolor='cornsilk', color='none', ax=ax, linewidth=2)\n",
    "ax.set_facecolor('k')\n",
    "chicago['population'] = chicago.eval('B01003_001E')\n",
    "chicago.plot('population', cmap='plasma', ax = ax, alpha=0.3, legend = True, cax = None, color = None)\n",
    "#cx.add_basemap(ax, crs=chicago.crs.to_string(), source=cx.providers.OpenStreetMap.HOT, zoom=12, alpha = 0.5)\n",
    "cx.add_basemap(ax, crs=chicago.crs.to_string(), source=cx.providers.CartoDB.Voyager, zoom=12, alpha = 1)"
   ],
   "metadata": {
    "collapsed": false,
    "pycharm": {
     "name": "#%%\n",
     "is_executing": true
    }
   }
  },
  {
   "cell_type": "code",
   "execution_count": null,
   "outputs": [],
   "source": [],
   "metadata": {
    "collapsed": false,
    "pycharm": {
     "name": "#%%\n"
    }
   }
  }
 ],
 "metadata": {
  "kernelspec": {
   "display_name": "Python 3",
   "language": "python",
   "name": "python3"
  },
  "language_info": {
   "codemirror_mode": {
    "name": "ipython",
    "version": 2
   },
   "file_extension": ".py",
   "mimetype": "text/x-python",
   "name": "python",
   "nbconvert_exporter": "python",
   "pygments_lexer": "ipython2",
   "version": "2.7.6"
  }
 },
 "nbformat": 4,
 "nbformat_minor": 0
}